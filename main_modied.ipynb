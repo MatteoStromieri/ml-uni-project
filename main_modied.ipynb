{
 "cells": [
  {
   "cell_type": "markdown",
   "metadata": {},
   "source": [
    "<div style=\"background-color: #f8d7da; color: #721c24; padding: 10px; border-radius: 5px; border: 1px solid #f5c6cb;\">\n",
    "    <strong>!Warning!</strong> Questo è un avviso importante, eseguire la cella sottostante prima di eseguire le altre celle del notebook.\n",
    "</div>"
   ]
  },
  {
   "cell_type": "code",
   "execution_count": 1,
   "metadata": {},
   "outputs": [],
   "source": [
    "# Eseguire prima delle altre celle\n",
    "\n",
    "import warnings\n",
    "warnings.filterwarnings('ignore')\n",
    "warnings.simplefilter(action='ignore', category=FutureWarning)\n",
    "\n",
    "def warn(*args, **kwargs):\n",
    "    pass\n",
    "warnings.warn = warn\n",
    "\n",
    "\n",
    "%matplotlib inline\n",
    "import os\n",
    "import IPython.display as ipd\n",
    "import numpy as np\n",
    "import pandas as pd\n",
    "import matplotlib.pyplot as plt\n",
    "import seaborn as sns\n",
    "import sklearn as skl\n",
    "import sklearn.utils, sklearn.preprocessing, sklearn.decomposition, sklearn.svm\n",
    "from typing import Optional, Union\n",
    "import librosa\n",
    "import librosa.display\n",
    "from sklearn.linear_model import LogisticRegression\n",
    "from sklearn.model_selection import train_test_split, GridSearchCV\n",
    "from sklearn.preprocessing import LabelEncoder, StandardScaler\n",
    "from sklearn.pipeline import Pipeline\n",
    "from sklearn.metrics import confusion_matrix, classification_report, accuracy_score\n",
    "from sklearn.feature_selection import SelectKBest, mutual_info_classif\n",
    "from sklearn.preprocessing import OneHotEncoder\n",
    "import torch\n",
    "from torch import nn\n",
    "import copy\n",
    "import tqdm\n",
    "from torch import optim\n",
    "from sklearn.decomposition import PCA\n",
    "from sklearn.metrics import classification_report, confusion_matrix\n",
    "import matplotlib.pyplot as plt\n",
    "import utils\n",
    "from sklearn.ensemble import (RandomForestClassifier, AdaBoostClassifier, BaggingClassifier)\n",
    "from sklearn import tree\n",
    "from sklearn.base import clone\n",
    "from sklearn.discriminant_analysis import LinearDiscriminantAnalysis\n",
    "from sklearn.model_selection import cross_val_score, cross_validate\n",
    "from sklearn.neighbors import KNeighborsClassifier as KNN\n",
    "from sklearn.metrics import accuracy_score, f1_score"
   ]
  },
  {
   "cell_type": "code",
   "execution_count": 2,
   "metadata": {},
   "outputs": [
    {
     "name": "stderr",
     "output_type": "stream",
     "text": [
      "Intel(R) Extension for Scikit-learn* enabled (https://github.com/uxlfoundation/scikit-learn-intelex)\n"
     ]
    }
   ],
   "source": [
    "from imblearn.over_sampling import SMOTE\n",
    "# per multi-core processing (intel only)\n",
    "from sklearnex import patch_sklearn\n",
    "patch_sklearn()"
   ]
  },
  {
   "cell_type": "markdown",
   "metadata": {},
   "source": [
    "# Introduzione  \n",
    "\n",
    "Negli ultimi decenni, il web ha rivoluzionato il modo in cui la musica viene condivisa e fruita. Se un tempo le collezioni musicali erano limitate a una manciata di vinili o CD, oggi gli utenti hanno accesso immediato a vastissimi cataloghi musicali attraverso piattaforme online. Questa crescita esponenziale ha posto nuove sfide, tra cui:  \n",
    "\n",
    "1. **L'organizzazione automatica delle collezioni musicali**, poiché la gestione manuale non è più sostenibile.  \n",
    "2. **La raccomandazione automatica di nuove canzoni**, basata sulle preferenze di ascolto dell'utente.  \n",
    "\n",
    "Un aspetto fondamentale per affrontare queste sfide è la capacità di raggruppare i brani in categorie semantiche, come i **generi musicali**. I generi musicali emergono dall’interazione di fattori culturali, artistici e di mercato e vengono utilizzati per descrivere somiglianze tra brani e organizzare le raccolte musicali. Tuttavia, i confini tra generi non sono sempre ben definiti, rendendo il compito del **riconoscimento automatico del genere musicale (Music Genre Recognition, MGR)** una sfida complessa.  \n",
    "\n",
    "Nonostante le critiche legate alla soggettività e alla variabilità culturale dei generi musicali, essi rimangono una categorizzazione intuitiva e ampiamente utilizzata dagli utenti per descrivere e scoprire nuova musica. Per questo motivo, il MGR è un tema di grande interesse nella ricerca nel campo del **Music Information Retrieval (MIR)**.  \n",
    "\n",
    "Il compito affrontato in questo notebook è il **riconoscimento automatico del genere musicale** di un brano a partire esclusivamente dalla sua registrazione audio. Il dataset utilizzato per questo studio è il **FMA (Free Music Archive) dataset**, una raccolta di brani musicali curati e di alta qualità, disponibile pubblicamente per la ricerca. Questo compito è stato anche oggetto di una delle sfide ufficiali della **Web Conference (WWW2018)**.  \n",
    "\n",
    "L'obiettivo di questo lavoro è esplorare tecniche di **apprendimento automatico** e **elaborazione del segnale audio** per classificare i brani nei rispettivi generi, analizzando le caratteristiche musicali e valutando l'efficacia di diversi modelli predittivi.  \n"
   ]
  },
  {
   "cell_type": "markdown",
   "metadata": {
    "jp-MarkdownHeadingCollapsed": true
   },
   "source": [
    "# Dati e dataset\n",
    "\n",
    "Il dataset **FMA (Free Music Archive)** fornisce un insieme di **feature pre-compute** estratte con la libreria **Librosa**, che descrivono diversi aspetti delle tracce audio e vengono utilizzate per la classificazione automatica del genere musicale.\n",
    "\n",
    "Abbiamo utilizzato la **versione medium** del dataset, che contiene **25.000 tracce** della durata di **30 secondi**, appartenenti a **16 generi musicali**. Per la classificazione, **non abbiamo estratto nuove feature**, ma abbiamo sfruttato direttamente le feature già disponibili nel dataset.\n"
   ]
  },
  {
   "cell_type": "markdown",
   "metadata": {},
   "source": [
    "## Dati Audio\n",
    "*Un segnale audio consiste in una sequenza di campioni audio, dove\n",
    " ogni campione (sample) rappresenta l'ampiezza del suono in un istante \n",
    "di tempo specifico. In breve, un segnale audio cattura le variazioni di \n",
    "pressione dell'aria nel tempo, che sono percepite dall'orecchio umano \n",
    "come suoni.\n",
    "L'ampiezza di un campione rappresenta l'altezza della forma d'onda \n",
    "sonora in quel punto specifico. L'ampiezza è direttamente correlata \n",
    "all'intensità del suono. I valori positivi rappresentano le compressioni\n",
    " dell'aria (pressione positiva), mentre i valori negativi rappresentano \n",
    "le rarefazioni dell'aria (pressione negativa).*"
   ]
  },
  {
   "cell_type": "code",
   "execution_count": null,
   "metadata": {},
   "outputs": [],
   "source": [
    "# audio directory\n",
    "AUDIO_DIR = os.path.join(os.getcwd(), 'fma_medium')\n",
    "\n",
    "# metadata directory\n",
    "METADATA_DIR = os.path.join(os.getcwd(), 'fma_metadata')"
   ]
  },
  {
   "cell_type": "code",
   "execution_count": null,
   "metadata": {},
   "outputs": [],
   "source": [
    "def load_song(genre: str = 'rock', song_number: int = 0) -> tuple[np.ndarray, float]:\n",
    "    song_title = sorted(os.listdir(os.path.join(AUDIO_DIR, genre)))[song_number]\n",
    "    song_path = os.path.join(AUDIO_DIR, genre, song_title)\n",
    "    y, sr = librosa.load(song_path)\n",
    "    return y, sr\n",
    "\n",
    "def song_info(y: np.ndarray, sr: float):\n",
    "    print('y: {}'.format(y))\n",
    "    print('Duration: {:.2f}s, {} samples, {} KHz'.format(len(y)/sr, len(y), sr/1000))\n",
    "\n"
   ]
  },
  {
   "cell_type": "code",
   "execution_count": null,
   "metadata": {},
   "outputs": [],
   "source": [
    "def plot_waveplot(y, sr, title='Waveplot', xlabel='Time', ylabel='Amplitude', color=None, alpha=0.8):\n",
    "    plt.figure(figsize=(14, 5))\n",
    "    if color:\n",
    "        librosa.display.waveshow(y, sr=sr, color=color, alpha=alpha)\n",
    "    else:\n",
    "        librosa.display.waveshow(y, sr=sr, alpha=alpha)\n",
    "    plt.title(title)\n",
    "    plt.xlabel(xlabel)\n",
    "    plt.ylabel(ylabel)\n",
    "    plt.show()\n"
   ]
  },
  {
   "cell_type": "code",
   "execution_count": null,
   "metadata": {},
   "outputs": [],
   "source": [
    "# load songs\n",
    "y, sr = load_song('rock', 25)\n",
    "y2, sr2 = load_song('rock', 112)\n",
    "y3, sr3 = load_song('classical', 35)\n",
    "\n",
    "song_info(y,sr)\n",
    "\n",
    "# plot the three songs together vertically\n",
    "\n",
    "fig, (ax1, ax2, ax3) = plt.subplots(3, 1, figsize=(14, 10), sharex=True)\n",
    "\n",
    "# librosa.display.waveshow(y, sr=sr)\n",
    "ax1.plot(y, linewidth=0.5)\n",
    "ax1.set_title('Rock Song 1')\n",
    "ax1.set_xlabel('Time')\n",
    "ax1.set_ylabel('Amplitude')\n",
    "\n",
    "ax2.plot(y2, linewidth=0.5)\n",
    "ax2.set_title('Rock Song 2')\n",
    "ax2.set_xlabel('Time')\n",
    "ax2.set_ylabel('Amplitude')\n",
    "\n",
    "ax3.plot(y3, linewidth=0.5)\n",
    "ax3.set_title('Classical Song')\n",
    "ax3.set_xlabel('Time')\n",
    "ax3.set_ylabel('Amplitude')\n",
    "\n",
    "# set x ticks to seconds, every 5 seconds starting from 0\n",
    "x_ticks = np.arange(0, len(y), sr*5)\n",
    "ax3.set_xticks(x_ticks)\n",
    "ax3.set_xticklabels((x_ticks/sr).astype(int))\n",
    "\n",
    "plt.tight_layout()\n",
    "plt.show()"
   ]
  },
  {
   "cell_type": "markdown",
   "metadata": {
    "jp-MarkdownHeadingCollapsed": true
   },
   "source": [
    "### Spettrogramma\n",
    "È una tecnica di analisi molto comune utilizzata nell'elaborazione dei \n",
    "segnali audio per mostrare come l'energia del suono è distribuita nelle \n",
    "diverse frequenze durante un periodo di tempo specifico.\n",
    "L'asse delle ascisse rappresenta il tempo, l'asse delle ordinate \n",
    "rappresenta la frequenza e il colore l'ampiezza. Le frequenze più basse si trovano \n",
    "nella parte inferiore dello spettrogramma, mentre le frequenze più alte \n",
    "si trovano nella parte superiore. La frequenza è solitamente misurata in\n",
    " unità come Hertz (Hz)."
   ]
  },
  {
   "cell_type": "code",
   "execution_count": null,
   "metadata": {},
   "outputs": [],
   "source": [
    "def spectrogram(y, mel=False):\n",
    "    # normalize the amplitude\n",
    "    y = librosa.util.normalize(y)\n",
    "\n",
    "    # Short-time Fourier transform (STFT)\n",
    "    X = librosa.stft(y)\n",
    "\n",
    "    # Convert an amplitude spectrogram to dB-scaled spectrogram.\n",
    "    x_db = librosa.amplitude_to_db(abs(X))\n",
    "\n",
    "    # Display a spectrogram\n",
    "    plt.figure(figsize=(14, 5))\n",
    "    if mel:\n",
    "        # Mel-scaled power spectrogram\n",
    "        X_mel = librosa.feature.melspectrogram(y=y, sr=sr, n_mels=128)\n",
    "        x_db_mel = librosa.amplitude_to_db(abs(X_mel), ref=np.max)\n",
    "\n",
    "        plt.figure(figsize=(14, 10))\n",
    "\n",
    "        plt.subplot(2, 1, 1)\n",
    "        librosa.display.specshow(x_db, sr=sr, x_axis='time', y_axis='hz')\n",
    "        plt.title('Simple Spectrogram')\n",
    "        plt.colorbar()\n",
    "\n",
    "        plt.subplot(2, 1, 2)\n",
    "        librosa.display.specshow(x_db_mel, sr=sr, x_axis='time', y_axis='hz')\n",
    "        plt.title('Mel-scaled spectrogram')\n",
    "        plt.colorbar()\n",
    "        plt.tight_layout()\n",
    "    else:\n",
    "        librosa.display.specshow(x_db, sr=sr, x_axis='time', y_axis='hz')\n",
    "        plt.title('Spectrogram')\n",
    "        plt.colorbar()\n",
    "\n",
    "    plt.show()"
   ]
  },
  {
   "cell_type": "code",
   "execution_count": null,
   "metadata": {},
   "outputs": [],
   "source": [
    "spectrogram(y, True)"
   ]
  },
  {
   "cell_type": "markdown",
   "metadata": {
    "jp-MarkdownHeadingCollapsed": true
   },
   "source": [
    "## Feature contenute nel dataset\n",
    "\n",
    "Le feature fornite rappresentano caratteristiche **timbriche, tonali e spettro-temporali** del segnale audio. Sono state calcolate su finestre di **2048 campioni**, con un **hop size di 512 campioni**, e per ciascuna di esse sono state estratte sette statistiche principali: **media, deviazione standard, asimmetria (skewness), curtosi, mediana, minimo e massimo**.\n",
    "\n",
    "Di seguito le principali feature disponibili:\n",
    "\n",
    "- **MFCC (Mel-Frequency Cepstral Coefficients) [140 dimensioni]**: rappresentano il timbro del suono e sono molto utilizzati nell'elaborazione audio.\n",
    "- **Chroma Features [252 dimensioni]**: descrivono la distribuzione delle frequenze nella scala musicale, utili per analizzare tonalità e armonie.\n",
    "- **Tonnetz Features [42 dimensioni]**: catturano la struttura armonica del brano e le relazioni tonali.\n",
    "- **Spectral Centroid [7 dimensioni]**: indica il \"centro di massa\" dello spettro di frequenza, utile per distinguere tra suoni acuti e gravi.\n",
    "- **Spectral Bandwidth [7 dimensioni]**: misura la dispersione delle frequenze attorno al centroide.\n",
    "- **Spectral Contrast [49 dimensioni]**: quantifica la differenza tra le parti più intense e meno intense dello spettro.\n",
    "- **Spectral Rolloff [7 dimensioni]**: identifica la frequenza sotto la quale si trova il **95% dell'energia spettrale**.\n",
    "- **RMS Energy (Root Mean Square Energy) [7 dimensioni]**: misura l'energia complessiva del segnale, utile per analizzare il volume medio del brano.\n",
    "- **Zero-Crossing Rate [7 dimensioni]**: conta il numero di volte in cui il segnale attraversa lo zero, utile per distinguere suoni percussivi da quelli armonici.\n",
    "\n",
    "Queste informazioni sono memorizzate nel file **features.csv**, dove ogni riga rappresenta una traccia e ogni colonna una delle feature estratte.\n",
    "\n",
    "Segue ora una descrizione più approfondita di alcune delle feature utilizzate."
   ]
  },
  {
   "cell_type": "markdown",
   "metadata": {},
   "source": [
    "### Zero Crossing Rate\n",
    "Viene utilizzata per calcolare il tasso di attraversamento dello zero in\n",
    " un segnale audio. Il tasso di attraversamento dello zero rappresenta il\n",
    " numero di volte in cui la forma d'onda di un segnale attraversa l'asse \n",
    "orizzontale (zero) in un determinato intervallo di tempo."
   ]
  },
  {
   "cell_type": "code",
   "execution_count": null,
   "metadata": {
    "id": "2Eqv46uS6AL4"
   },
   "outputs": [],
   "source": [
    "def plot_zero_cross_rate(y1, y2, label1, label2, zero_line=True):\n",
    "\n",
    "    # zero crossing rate\n",
    "    z1 = librosa.feature.zero_crossing_rate(y1)\n",
    "    z2 = librosa.feature.zero_crossing_rate(y2)\n",
    "\n",
    "\n",
    "    # plot a graph with the two crossing rates, and one with the difference between the tww (horizontally)\n",
    "    fig, (ax1, ax2) = plt.subplots(1, 2, sharey=True, figsize=(15, 5))\n",
    "    fig.suptitle('Zero Crossing Rate', fontsize=16)\n",
    "\n",
    "    # left plot\n",
    "    ax1.plot(z1[0], label=label1, linewidth=.5)\n",
    "    ax1.plot(z2[0], label=label2, linewidth=.5)\n",
    "\n",
    "    # mean line\n",
    "    m1 = np.mean(z1)\n",
    "    m2 = np.mean(z2)\n",
    "    ax1.axhline(m1, color='blue', linestyle='--', linewidth=2, label=f'Mean of {label1}')\n",
    "    ax1.axhline(m2, color='red', linestyle='--', linewidth=2, label=f'Mean of {label2}')\n",
    "\n",
    "    # right plot\n",
    "    z3 = z1 - z2\n",
    "    ax2.plot(z3[0], color='green', label='Difference', linewidth=.5)\n",
    "    ax2.set_title('Difference between the two crossing rates')\n",
    "\n",
    "    # mean line\n",
    "    m3 = np.mean(z3)\n",
    "    ax2.axhline(m3, color='purple', linestyle='--', linewidth=2, label=f'Mean of the difference')\n",
    "\n",
    "    if zero_line:\n",
    "        ax1.axhline(0, color='black', linestyle='--', linewidth=1)\n",
    "        ax2.axhline(0, color='black', linestyle='--', linewidth=1)\n",
    "        ax1.set_title('Zero Crossing Rate')\n",
    "        ax2.set_title('Zero Crossing Rate')\n",
    "\n",
    "    ax1.legend()\n",
    "    ax2.legend()\n",
    "\n",
    "    plt.show()"
   ]
  },
  {
   "cell_type": "code",
   "execution_count": null,
   "metadata": {
    "colab": {
     "base_uri": "https://localhost:8080/",
     "height": 645
    },
    "id": "0MogC31c6AL5",
    "outputId": "8c40c600-4035-4a6a-ea1f-334b1d3094e5"
   },
   "outputs": [],
   "source": [
    "plot_zero_cross_rate(y, y3, 'Rock Song 1', 'Classical Song')\n",
    "plot_zero_cross_rate(y, y2, 'Rock Song 1', 'Rock Song 2')"
   ]
  },
  {
   "cell_type": "markdown",
   "metadata": {},
   "source": [
    "### RMS Energy\n",
    "La ***Root Mean Square Energy*** è una misura dell'energia complessiva o della sonorità del segnale nel tempo. Fornisce informazioni sulle variazioni di ampiezza del segnale audio."
   ]
  },
  {
   "cell_type": "code",
   "execution_count": null,
   "metadata": {},
   "outputs": [],
   "source": [
    "# Calculate RMS energy\n",
    "rms1 = librosa.feature.rms(y=y)\n",
    "rms2 = librosa.feature.rms(y=y2)\n",
    "rms3 = librosa.feature.rms(y=y3)\n",
    "\n",
    "times = librosa.times_like(rms1)\n",
    "\n",
    "# Plot RMS energy\n",
    "fig, (ax1, ax2, ax3) = plt.subplots(3, 1, figsize=(14, 10), sharex=True)\n",
    "\n",
    "# librosa.display.waveshow(y, sr=sr)\n",
    "ax1.plot(times, rms1[0])\n",
    "ax1.set_title('Rock Song 1')\n",
    "ax1.set_xlabel('Time')\n",
    "ax1.set_ylabel('RMS Energy')\n",
    "\n",
    "ax2.plot(times, rms2[0])\n",
    "ax2.set_title('Rock Song 2')\n",
    "ax2.set_xlabel('Time')\n",
    "ax2.set_ylabel('RMS Energy')\n",
    "\n",
    "ax3.plot(times, rms3[0])\n",
    "ax3.set_title('Classical Song')\n",
    "ax3.set_xlabel('Time')\n",
    "ax3.set_ylabel('RMS Energy')\n",
    "\n",
    "# set x ticks to seconds, every 5 seconds starting from 0\n",
    "x_ticks = np.arange(0, len(y), sr*5)\n",
    "\n",
    "plt.tight_layout()\n",
    "plt.show()"
   ]
  },
  {
   "cell_type": "markdown",
   "metadata": {},
   "source": [
    "### Mel-Frequency Cepstral Coefficients\n",
    "Sono una serie di coefficienti utilizzati per rappresentare le caratteristiche spettrali di un segnale audio in un formato compatibile con la percezione umana delle frequenze (vengono utilizzati soprettutto per il riconoscimento e la sintesi vocale).\n",
    "Per essere più precisi, i coefficienti MFCC rappresentano una serie di valori numerici che catturano le caratteristiche spettrali del segnale audio in un dato frame temporale.\n",
    "Ad esempio, nella cella (1,2) troveremo il valore del terzo coefficiente di mel nel secondo frame."
   ]
  },
  {
   "cell_type": "code",
   "execution_count": null,
   "metadata": {
    "id": "eK-0wR8t6AMJ"
   },
   "outputs": [],
   "source": [
    "def plot_mfcc(*Y, sr, songs_names=None):\n",
    "\n",
    "    n = len(Y)\n",
    "    fig, ax = plt.subplots(n, 1, figsize=(14, 5*n), sharex=True)\n",
    "    fig.suptitle('Mel-frequency cepstral coefficients (MFCC)', fontsize=16)\n",
    "\n",
    "    if n == 1:\n",
    "        ax = [ax]\n",
    "\n",
    "    for i in range(n):\n",
    "\n",
    "        # mfcc of the song\n",
    "        mfcc = librosa.feature.mfcc(y=Y[i], sr=sr)\n",
    "\n",
    "        mean = np.mean(mfcc)\n",
    "        variance = np.var(mfcc)\n",
    "\n",
    "        # scale the mfcc\n",
    "        mfcc = skl.preprocessing.scale(mfcc, axis=1)\n",
    "\n",
    "        # display the mfcc\n",
    "        librosa.display.specshow(mfcc, sr=sr, x_axis='time', ax=ax[i])\n",
    "\n",
    "        # set title\n",
    "        title = songs_names[i] if songs_names else f'Song {i+1}'\n",
    "        ax[i].set_title(f'{title}\\nMean: {mean:.2f}, Variance: {variance:.2f}')\n",
    "\n",
    "        # set x and y labels\n",
    "        ax[i].set_xlabel(None)\n",
    "        ax[i].set_ylabel('MFCC')\n",
    "\n",
    "    ax[-1].set_xlabel('Time')\n",
    "\n",
    "    plt.show()"
   ]
  },
  {
   "cell_type": "code",
   "execution_count": null,
   "metadata": {
    "colab": {
     "base_uri": "https://localhost:8080/",
     "height": 989
    },
    "id": "qZZ5zJMW6ANI",
    "outputId": "aeae0e8f-9be8-43ff-900a-4376eab34e87"
   },
   "outputs": [],
   "source": [
    "plot_mfcc(y, y2, y3, sr=sr, songs_names=['Rock Song 1', 'Rock Song 2', 'Classical Song'])"
   ]
  },
  {
   "cell_type": "markdown",
   "metadata": {},
   "source": [
    "### Spectral centroid\n",
    "è una misura del 'centro di massa' dello spettro. Indica dove si trova \n",
    "il 'centro' del suono in termini di frequenza. Percettivamente, è \n",
    "strettamente correlato alla sensazione di 'brillantezza' di un suono."
   ]
  },
  {
   "cell_type": "code",
   "execution_count": null,
   "metadata": {
    "id": "h-N58nWB6AL8"
   },
   "outputs": [],
   "source": [
    "def normalize(x, axis=0):\n",
    "\n",
    "    return skl.preprocessing.minmax_scale(x, axis=axis)\n",
    "\n",
    "def plot_spectral_centroid(*Y, sr, title='Spectral Centroid', xlabel='Time', ylabel='Frequency', songs_names=None):\n",
    "\n",
    "    n = len(Y)\n",
    "    fig, ax = plt.subplots(n, 1, figsize=(14, 5*n), sharex=True)\n",
    "\n",
    "    fig.suptitle(title, fontsize=16)\n",
    "\n",
    "    if n == 1:\n",
    "        ax = [ax]\n",
    "\n",
    "    for i in range(n):\n",
    "        y = Y[i]\n",
    "\n",
    "        # Computing the spectral centroid for each frame\n",
    "        cent = librosa.feature.spectral_centroid(y=y, sr=sr)[0]\n",
    "\n",
    "        # Computing the time variable for visualization\n",
    "        frames = range(len(cent))\n",
    "\n",
    "        # Converts frame counts to time (seconds)\n",
    "        t = librosa.frames_to_time(frames)\n",
    "\n",
    "        librosa.display.waveshow(y, sr=sr, linewidth=.5,  alpha=0.4, ax=ax[i])\n",
    "        ax[i].plot(t, normalize(cent), color='#FFB100', label='Spectral Centroid', linewidth=2)\n",
    "\n",
    "        title = songs_names[i] if songs_names else f'Song {i+1}'\n",
    "\n",
    "        ax[i].set_title(title)\n",
    "        ax[i].set_xlabel(xlabel)\n",
    "        ax[i].set_ylabel(ylabel)\n",
    "        ax[i].legend()\n",
    "    plt.show()"
   ]
  },
  {
   "cell_type": "code",
   "execution_count": null,
   "metadata": {
    "colab": {
     "base_uri": "https://localhost:8080/",
     "height": 953
    },
    "id": "4mAymrd_6AL9",
    "outputId": "386cd5e0-1043-4155-ffa1-c84b1d4487ef"
   },
   "outputs": [],
   "source": [
    "plot_spectral_centroid(y, y2, y3, sr=sr, songs_names=['Rock Song 1', 'Rock Song 2', 'Classical Song'])"
   ]
  },
  {
   "cell_type": "markdown",
   "metadata": {},
   "source": [
    "### Chroma Features\n",
    "Le Chroma Features, sono strumenti utili ad analizzare il contenuto armonico e tonale della musica. Sono particolarmente utili per compiti che coinvolgono \n",
    "l'analisi del tono e dell'armonia, come il riconoscimento degli accordi, il rilevamento della tonalità e la stima della somiglianza musicale.\n",
    "\n",
    "Le Chroma features rappresentano l'intensità di ciascuna delle 12 classi di tonalità (C, C#, D, D#, E, F, F#, G, G#, A, A#, B) nel segnale audio, indipendentemente dall'ottava. Questo le rende particolarmente adatte per l'analisi delle caratteristiche armoniche e melodiche della musica.\n",
    "\n",
    "Concetti chiave:\n",
    "\n",
    "- **classe di tonalità**: tutte le tonalità che condividono la stessa nota (ad esempio, tutte le note C nelle diverse ottave);\n",
    "- **\"Invarianza d'ottava**: le caratteristiche sommano l'energia su tutte le ottave per ciascuna classe di note."
   ]
  },
  {
   "cell_type": "code",
   "execution_count": null,
   "metadata": {},
   "outputs": [],
   "source": [
    "# Compute chroma features\n",
    "chroma = librosa.feature.chroma_stft(y=y, sr=sr)\n",
    "\n",
    "# Visualize chroma features\n",
    "plt.figure(figsize=(14, 6))\n",
    "librosa.display.specshow(chroma, sr=sr, x_axis='time', y_axis='chroma')\n",
    "plt.colorbar()\n",
    "plt.title('Chromagram')\n",
    "plt.show()"
   ]
  },
  {
   "cell_type": "markdown",
   "metadata": {
    "jp-MarkdownHeadingCollapsed": true
   },
   "source": [
    "## Motivazione delle scelte\n",
    "\n",
    "Per ottenere una rappresentazione più efficace dei dati, avremmo potuto utilizzare degli **autoencoder**, una classe di reti neurali progettate per apprendere una rappresentazione compressa e significativa degli input. Gli autoencoder avrebbero potuto estrarre caratteristiche più astratte e strutturate dai dati audio, migliorando potenzialmente la classificazione dei generi musicali.\n",
    "\n",
    "Tuttavia, il **formato audio** è complesso da gestire e richiede tecniche avanzate di elaborazione del segnale, come la conversione in spettrogrammi o l'uso di architetture specializzate per sequenze temporali, come le **RNN (Reti Neurali Ricorrenti)** o i **Transformer**. Poiché a lezione non abbiamo affrontato modelli per la gestione di **sequenze di dati**, abbiamo preferito evitare questa strada e concentrarci sull'utilizzo delle feature pre-estratte, già fornite nel dataset.\n",
    "\n",
    "L'obiettivo del nostro lavoro è stato quindi analizzare e confrontare diverse tecniche di **machine learning**, valutando le performance ottenute con le feature disponibili."
   ]
  },
  {
   "cell_type": "markdown",
   "metadata": {},
   "source": [
    "# Analisi esplorativa\n",
    "\n",
    "Innanzi tutto osserviamo che il nostro dataset conta un totale di 25000 osservazioni e 518 feature. Ad ognuna di esse è associato un genere target."
   ]
  },
  {
   "cell_type": "code",
   "execution_count": 3,
   "metadata": {},
   "outputs": [
    {
     "data": {
      "text/plain": [
       "((25000, 518), (25000, 1))"
      ]
     },
     "execution_count": 3,
     "metadata": {},
     "output_type": "execute_result"
    }
   ],
   "source": [
    "X = utils.load('./fma_metadata/features_medium.csv')\n",
    "y = pd.read_csv('./fma_metadata/train_labels.csv', index_col=0)\n",
    "\n",
    "np.testing.assert_array_equal(X.index, y.index)\n",
    "\n",
    "X.shape, y.shape"
   ]
  },
  {
   "cell_type": "markdown",
   "metadata": {},
   "source": [
    "Verifichiamo ora quante occorrenze sono presenti nel nostro dataset"
   ]
  },
  {
   "cell_type": "code",
   "execution_count": 4,
   "metadata": {},
   "outputs": [
    {
     "data": {
      "text/plain": [
       "genre\n",
       "blues                    74\n",
       "classical               619\n",
       "country                 178\n",
       "easy listening           21\n",
       "electronic             6314\n",
       "experimental           2251\n",
       "folk                   1519\n",
       "hip-hop                2201\n",
       "instrumental           1350\n",
       "international          1018\n",
       "jazz                    384\n",
       "old-time / historic     510\n",
       "pop                    1186\n",
       "rock                   7103\n",
       "soul-rnb                154\n",
       "spoken                  118\n",
       "dtype: int64"
      ]
     },
     "execution_count": 4,
     "metadata": {},
     "output_type": "execute_result"
    }
   ],
   "source": [
    "CATEGORIES = sorted(y[\"genre\"].unique())\n",
    "\n",
    "y.groupby('genre').size()"
   ]
  },
  {
   "cell_type": "code",
   "execution_count": 5,
   "metadata": {},
   "outputs": [
    {
     "data": {
      "image/png": "[encoded data removed]",
      "text/plain": [
       "<Figure size 1400x500 with 1 Axes>"
      ]
     },
     "metadata": {},
     "output_type": "display_data"
    }
   ],
   "source": [
    "fig, ax = plt.subplots(1, 1, figsize=(14, 5), facecolor='white')\n",
    "fig.suptitle('Genres distributions', fontsize=16)\n",
    "\n",
    "# plot a bar chart of genres\n",
    "ax.pie(y.groupby('genre').size(), labels=CATEGORIES)\n",
    "ax.text(-.5, -1.5, 'Total: {} records'.format(len(y)), fontsize=12)\n",
    "\n",
    "plt.show()"
   ]
  },
  {
   "cell_type": "markdown",
   "metadata": {},
   "source": [
    "Si evince quindi che il dataset è molto sbilanciato, con classi che contano migliaia di osservazioni e classi che ne contano poche decine. Segue poi un pò di data cleaning per assicurarci che tutti i dati siano nel giusto formato e non siano presenti valori strani."
   ]
  },
  {
   "cell_type": "code",
   "execution_count": 6,
   "metadata": {},
   "outputs": [],
   "source": [
    "%%capture\n",
    "\n",
    "# Data cleaning\n",
    "X = X.drop(utils.FILES_TRAIN_FAULTY)\n",
    "y = y.drop(utils.FILES_TRAIN_FAULTY)\n",
    "\n",
    "# The track IDs are integers for the training set.\n",
    "X.index = pd.Index((int(i) for i in X.index), name='track_id')\n",
    "\n",
    "# Should be done already, but better be sure.\n",
    "X.sort_index(inplace=True)\n",
    "y.sort_index(inplace=True)\n",
    "\n",
    "# Data normalization\n",
    "scaler = skl.preprocessing.StandardScaler(copy=False)\n",
    "scaler.fit_transform(X)"
   ]
  },
  {
   "cell_type": "markdown",
   "metadata": {},
   "source": [
    "Abbiamo poi eseguito un'analisi della **correlazione** tra le diverse feature del dataset per identificare eventuali relazioni lineari tra di esse. Questo ci ha permesso di capire meglio la struttura del dataset e di individuare feature ridondanti che potrebbero influire sulla performance dei modelli di machine learning.\n",
    "\n",
    "Osserva che questa analisi è isolata alle sole \"medie\" delle varie feature."
   ]
  },
  {
   "cell_type": "code",
   "execution_count": 7,
   "metadata": {},
   "outputs": [
    {
     "data": {
      "image/png": "[encoded data removed]",
      "text/plain": [
       "<Figure size 640x480 with 2 Axes>"
      ]
     },
     "metadata": {},
     "output_type": "display_data"
    }
   ],
   "source": [
    "spike_cols = [col for col in X.columns if 'mean' in col] \n",
    "sns.heatmap(X[spike_cols].corr(), cmap='YlGn') \n",
    "\n",
    "plt.title('Heatmap for MEAN variables', fontsize = 20) \n",
    "plt.xticks(fontsize = 10) \n",
    "plt.yticks(fontsize = 10);\n",
    "plt.show()"
   ]
  },
  {
   "cell_type": "markdown",
   "metadata": {},
   "source": [
    "Nel'heatmap si possono notare dei blocchi di colore omogeneo. Quelli centrati sulla diagonale mettono in evidenza un'osservazione che ci saremmo potuti immaginare anche senza mappa: le stesse misurazioni fatte con parametri diversi (per esempio chroma_stft_10, chroma_stft_07...) sono altamente correlate tra di loro. Osserviamo però che blocchi omogenei sono presenti anche lontani dalla diagonale, questi mettono in evidenza della correlazione anche tra metriche diverse! Queste correlazioni possono essere sfruttate per ridurre la dimensionalità."
   ]
  },
  {
   "cell_type": "markdown",
   "metadata": {},
   "source": [
    "## Feature Selection"
   ]
  },
  {
   "cell_type": "markdown",
   "metadata": {},
   "source": [
    "## Selezione delle feature più rilevanti\n",
    "\n",
    "Successivamente, abbiamo applicato la **PCA (Principal Component Analysis)** per ridurre la dimensionalità del dataset. Questa tecnica ci ha permesso di comprimere le informazioni contenute nelle feature originali in un numero inferiore di componenti principali, preservando la maggior parte della varianza nei dati. La riduzione della dimensionalità è stata utile per semplificare il modello, migliorare l'efficienza computazionale e, in alcuni casi, ridurre il rischio di overfitting.\n",
    "\n",
    "Il grafico sotto mostra che il 90% varianza del dataset è catturata da meno di 150 componenti."
   ]
  },
  {
   "cell_type": "code",
   "execution_count": 8,
   "metadata": {},
   "outputs": [
    {
     "data": {
      "image/png": "[encoded data removed]",
      "text/plain": [
       "<Figure size 640x480 with 1 Axes>"
      ]
     },
     "metadata": {},
     "output_type": "display_data"
    }
   ],
   "source": [
    "pca = PCA().fit(X)  # PCA senza specificare componenti\n",
    "\n",
    "cumsum = np.cumsum(pca.explained_variance_ratio_)\n",
    "idx = np.argmin(np.abs(cumsum - cumsum[-1]*.90))\n",
    "\n",
    "# plot the eigenvalues horizontal line that represents the 95% of the variance\n",
    "plt.axhline(cumsum[idx], color='black', linestyle='--', linewidth=1)\n",
    "plt.text(30, cumsum[idx]+0.01, '90% of the variance', fontsize=12)\n",
    "\n",
    "# plot the eigenvalues vertical line that represents the number of eigenvalues that represents the 95% of the variance\n",
    "plt.axvline(idx, color='black', linestyle='--', linewidth=1)\n",
    "plt.text(idx+3, 0.1, f'{idx} eigenvalues', fontsize=12)\n",
    "\n",
    "plt.xlim(0, 300)\n",
    "plt.plot(cumsum)\n",
    "plt.xlabel(\"Numero di Componenti\")\n",
    "plt.ylabel(\"Varianza Spiegata Cumulativa\")\n",
    "plt.title(\"Scelta del Numero di Componenti\")\n",
    "plt.grid()\n",
    "plt.show()"
   ]
  },
  {
   "cell_type": "markdown",
   "metadata": {},
   "source": [
    "Allora durante l'analisi dei modelli verrà considerato il dataset in tre forme:\n",
    "\n",
    "- forma originale;\n",
    "- proiettato nel sottospazio generato dagli autovettori associati ai primi 63 autovalori (75% della varianza del dataset);\n",
    "- proiettato nel sottospazio generato dagli autovettori associati ai primi 149 autovalori (90% della varianza del dataset);"
   ]
  },
  {
   "cell_type": "code",
   "execution_count": 9,
   "metadata": {},
   "outputs": [],
   "source": [
    "def split_dataset(X: pd.DataFrame, y: pd.DataFrame, test_size: float = 0.3, random_state: int = 42) -> tuple[pd.DataFrame, pd.DataFrame, pd.DataFrame, pd.DataFrame]:\n",
    "    train, test, y_train, y_test = train_test_split(X, y, test_size=test_size, random_state=random_state)\n",
    "    return train, test, y_train, y_test\n"
   ]
  },
  {
   "cell_type": "code",
   "execution_count": 10,
   "metadata": {},
   "outputs": [],
   "source": [
    "def smote(x_train, y_train) -> tuple:\n",
    "    smote = SMOTE(random_state=42, sampling_strategy='not majority')\n",
    "    x_train_balanced, y_train_balanced = smote.fit_resample(x_train, y_train)\n",
    "    return x_train_balanced, y_train_balanced\n"
   ]
  },
  {
   "cell_type": "code",
   "execution_count": 11,
   "metadata": {},
   "outputs": [
    {
     "name": "stdout",
     "output_type": "stream",
     "text": [
      "Forma originale: (19983, 518)\n",
      "Dopo PCA (19983, 149)\n",
      "Dopo PCA (19983, 63)\n"
     ]
    }
   ],
   "source": [
    "X_train, X_test, y_train, y_test = split_dataset(X,y,test_size=0.2,random_state=42)\n",
    "X_test, X_val, y_test, y_val = split_dataset(X_test, y_test, test_size=0.5, random_state=42)\n",
    "\n",
    "# X_train, y_train = smote(X_train, y_train)\n",
    "\n",
    "# Be sure training samples are shuffled.\n",
    "X_train, y_train = skl.utils.shuffle(X_train, y_train, random_state=42)\n",
    "\n",
    "print(\"Forma originale:\", X_train.shape)\n",
    "percent = [.90, .75]\n",
    "\n",
    "X_trains = []\n",
    "X_tests = []\n",
    "\n",
    "X_trains.append(X_train)\n",
    "X_tests.append(X_test)\n",
    "\n",
    "for p in percent:\n",
    "    d = np.argmin(np.abs(cumsum - cumsum[-1]*p))\n",
    "    pca = PCA(n_components=d)\n",
    "    pca.fit(X)\n",
    "    X_trains.append(pd.DataFrame(pca.transform(X_train)))\n",
    "    X_tests.append(pd.DataFrame(pca.transform(X_test)))\n",
    "\n",
    "for x in X_trains[1:]:\n",
    "    print(\"Dopo PCA\", x.shape)\n",
    "\n",
    "pca = PCA(n_components=149)\n",
    "pca.fit(X)\n",
    "X_val = pd.DataFrame(pca.transform(X_val))\n",
    "# y_train.groupby('genre').size()"
   ]
  },
  {
   "cell_type": "markdown",
   "metadata": {},
   "source": [
    "Vediamo ora quali sono le feature che abbiamo selezionato e \"quanta\" varianza spiegano."
   ]
  },
  {
   "cell_type": "code",
   "execution_count": 12,
   "metadata": {},
   "outputs": [
    {
     "data": {
      "image/png": "[encoded data removed]",
      "text/plain": [
       "<Figure size 640x480 with 1 Axes>"
      ]
     },
     "metadata": {},
     "output_type": "display_data"
    }
   ],
   "source": [
    "col_names = [name+\"_\"+stat+\"_\"+parameter for (name, stat, parameter) in X.columns]\n",
    "\n",
    "important_features = np.abs(pca.components_[0])  # Prendi il valore assoluto della prima componente\n",
    "feature_importance = list(zip(col_names, pca.explained_variance_ratio_))\n",
    "feature_importance.sort(key=lambda x: x[1], reverse=True)  # Ordina per importanza\n",
    "pca_feature_importance = feature_importance[:20]\n",
    "pca_feature_importance_keys = [feature for (feature, value) in pca_feature_importance]\n",
    "pca_feature_importance_value = [value for (feature, value) in pca_feature_importance]\n",
    "\n",
    "fig, ax = plt.subplots()\n",
    "\n",
    "# Creazione del bar chart\n",
    "ax.bar(pca_feature_importance_keys ,pca_feature_importance_value)\n",
    "\n",
    "# Aggiungere etichette e titolo\n",
    "ax.set_xlabel('Feature')\n",
    "ax.set_ylabel('Varianza spiegata')\n",
    "plt.xticks(rotation=90)\n",
    "\n",
    "# Mostrare il grafico\n",
    "plt.show()"
   ]
  },
  {
   "cell_type": "markdown",
   "metadata": {},
   "source": [
    "# Modelli\n",
    "Per affrontare il compito di classificazione del genere musicale sul dataset **FMA (Free Music Archive)**, sono stati testati diversi modelli di machine learning al fine di confrontarne le performance e identificare l'approccio più efficace. Ogni modello scelto rappresenta una tecnica classica o avanzata di classificazione, in grado di gestire il tipo di dati e le feature pre-estratte dal dataset.\n",
    "\n",
    "I modelli implementati comprendono:\n",
    "\n",
    "- **LSTM** (Baseline model) \n",
    "- **Support Vector Machine (SVM)**\n",
    "- **Decision Tree**\n",
    "- **Bagging**\n",
    "- **Boosting**\n",
    "- **Rete Neurale**\n",
    "- **Softmax Regression**\n",
    "- **Gaussian Discriminant Analysis (GDA)**\n",
    "- **k-Nearest Neighbors (kNN)**\n",
    "\n",
    "Questi modelli sono stati scelti per sfruttare diversi approcci al machine learning, esplorando tanto metodi parametrici quanto non-parametrici.\n",
    "\n",
    "Per ogni modello che sperimentiamo riportiamo la matrice di confusione e le metriche più importanti (Guarda cella sotto).\n",
    "\n",
    "Le definizione delle metriche che abbiamo analizzato sono riportate qui:\n",
    "\n",
    "### Metriche di valutazione\n",
    "\n",
    "$$\n",
    "\\text{Precision}_i = \\frac{TP_i}{TP_i + FP_i}\n",
    "$$\n",
    "\n",
    "$$\n",
    "\\text{Recall}_i = \\frac{TP_i}{TP_i + FN_i}\n",
    "$$\n",
    "\n",
    "$$\n",
    "\\text{F1-score}_i = 2 \\cdot \\frac{\\text{Precision}_i \\cdot \\text{Recall}_i}{\\text{Precision}_i + \\text{Recall}_i}\n",
    "$$\n",
    "\n",
    "### Medie delle metriche\n",
    "\n",
    "$$\n",
    "\\text{Macro Precision} = \\frac{1}{N} \\sum_{i=1}^{N} \\text{Precision}_i\n",
    "$$\n",
    "\n",
    "$$\n",
    "\\text{Macro Recall} = \\frac{1}{N} \\sum_{i=1}^{N} \\text{Recall}_i\n",
    "$$\n",
    "\n",
    "$$\n",
    "\\text{Macro F1-score} = \\frac{1}{N} \\sum_{i=1}^{N} \\text{F1-score}_i\n",
    "$$\n",
    "\n",
    "**Weighted Average**  \n",
    "(calcolata pesando ogni classe in base alla sua frequenza):\n",
    "\n",
    "$$\n",
    "\\text{Weighted Precision} = \\sum_{i=1}^{N} w_i \\cdot \\text{Precision}_i\n",
    "$$\n",
    "\n",
    "$$\n",
    "\\text{Weighted Recall} = \\sum_{i=1}^{N} w_i \\cdot \\text{Recall}_i\n",
    "$$\n",
    "\n",
    "$$\n",
    "\\text{Weighted F1-score} = \\sum_{i=1}^{N} w_i \\cdot \\text{F1-score}_i\n",
    "$$\n",
    "\n",
    "Dove:\n",
    "- \\( TP_i \\) = True Positives per la classe \\( i \\)\n",
    "- \\( FP_i \\) = False Positives per la classe \\( i \\)\n",
    "- \\( FN_i \\) = False Negatives per la classe \\( i \\)\n",
    "- \\( N \\) è il numero di classi\n",
    "- \\( w_i \\) è il peso della classe \\( i \\), definito come la proporzione di campioni appartenenti a quella classe rispetto al totale.\n",
    "\n",
    "\n",
    "\n"
   ]
  },
  {
   "cell_type": "code",
   "execution_count": 13,
   "metadata": {},
   "outputs": [],
   "source": [
    "def plot_confusion_matrix(y_true, y_pred, classes, normalize=False, title=None, cmap=plt.cm.Blues):\n",
    "    cm = confusion_matrix(y_true, y_pred)\n",
    "    if normalize:\n",
    "        cm = cm.astype('float') / cm.sum(axis=1)[:, np.newaxis]\n",
    "    \n",
    "    fig, ax = plt.subplots(figsize=(10, 10))\n",
    "    im = ax.imshow(cm, interpolation='nearest', cmap=cmap)\n",
    "    ax.figure.colorbar(im, ax=ax)\n",
    "    ax.set(\n",
    "        xticks=np.arange(cm.shape[1]),\n",
    "        yticks=np.arange(cm.shape[0]),\n",
    "        xticklabels=classes,\n",
    "        yticklabels=classes,\n",
    "        title=title,\n",
    "        ylabel='True label',\n",
    "        xlabel='Predicted label'\n",
    "    )\n",
    "    plt.setp(\n",
    "        ax.get_xticklabels(),\n",
    "        rotation=45,\n",
    "        ha='right',\n",
    "        rotation_mode='anchor'\n",
    "    )\n",
    "    \n",
    "    fmt = '.2f' if normalize else 'd'\n",
    "    thresh = cm.max() / 2\n",
    "    for i in range(cm.shape[0]):\n",
    "        for j in range(cm.shape[1]):\n",
    "            ax.text(j, i, format(cm[i, j], fmt), ha='center', va='center', color='white' if cm[i, j] > thresh else 'black')\n",
    "    fig.tight_layout()\n",
    "    return ax\n",
    "\n",
    "def valuate(clf, x_test, y_test, title = 'Confusion matrix'):\n",
    "    y_pred = clf.predict(x_test)\n",
    "    plot_confusion_matrix(y_test, y_pred, classes=clf.classes_, title=title)    \n",
    "    print(classification_report(y_test, y_pred))\n"
   ]
  },
  {
   "cell_type": "markdown",
   "metadata": {
    "jp-MarkdownHeadingCollapsed": true
   },
   "source": [
    "# LSTM"
   ]
  },
  {
   "cell_type": "code",
   "execution_count": null,
   "metadata": {},
   "outputs": [],
   "source": [
    "import os\n",
    "import random\n",
    "import librosa\n",
    "import numpy as np\n",
    "import torch\n",
    "import torch.nn as nn\n",
    "import torch.optim as optim\n",
    "from torch.utils.data import Dataset, DataLoader\n",
    "from sklearn.model_selection import train_test_split\n",
    "from sklearn.preprocessing import LabelEncoder\n",
    "import utils"
   ]
  },
  {
   "cell_type": "code",
   "execution_count": null,
   "metadata": {},
   "outputs": [],
   "source": [
    "# Parametri audio\n",
    "SAMPLE_RATE = 22050  # Frequenza di campionamento standard\n",
    "DURATION = 10  # Durata dei file audio (in secondi)\n",
    "SAMPLES_PER_TRACK = SAMPLE_RATE * DURATION  # Numero totale di campioni per traccia\n",
    "\n",
    "# Caricare i dati audio e normalizzarli\n",
    "def load_audio(file_path, max_length=SAMPLES_PER_TRACK):\n",
    "    signal, sr = librosa.load(file_path, sr=SAMPLE_RATE)\n",
    "    if len(signal) > max_length:\n",
    "        signal = signal[:max_length]  # Troncatura\n",
    "    elif len(signal) < max_length:\n",
    "        signal = np.pad(signal, (0, max_length - len(signal)), mode='constant')  # Padding\n",
    "    return signal, sr\n",
    "\n",
    "# Percorso dei file audio\n",
    "data_dir = \"./fma_medium/\"\n",
    "genres = os.listdir(data_dir)\n",
    "\n",
    "X, y = [], []\n",
    "\n",
    "# for genre in genres:\n",
    "#     genre_path = os.path.join(data_dir, genre)\n",
    "#     if os.path.isdir(genre_path):\n",
    "#         for file in os.listdir(genre_path):\n",
    "#             if file.endswith(\".mp3\") and int(file[:3]) not in utils.FILES_TRAIN_FAULTY:\n",
    "#                 file_path = os.path.join(genre_path, file)\n",
    "#                 signal, sr = load_audio(file_path)\n",
    "#                 # mel = librosa.feature.melspectrogram(y=signal, sr=sr, n_mels=128)\n",
    "#                 X.append(signal)\n",
    "#                 y.append(genre)\n",
    "\n",
    "for genre in genres:\n",
    "    genre_path = os.path.join(data_dir, genre)\n",
    "    if os.path.isdir(genre_path):\n",
    "        filelist = os.listdir(genre_path)\n",
    "        for _ in range(100):\n",
    "            file = random.choice(filelist)\n",
    "            if file.endswith(\".mp3\") and int(file[:3]) not in utils.FILES_TRAIN_FAULTY:\n",
    "                file_path = os.path.join(genre_path, file)\n",
    "                signal, sr = load_audio(file_path)\n",
    "                # mel = librosa.feature.melspectrogram(y=signal, sr=sr, n_mels=128)\n",
    "                X.append(signal)\n",
    "                y.append(genre)\n",
    "\n",
    "\n",
    "# Convertire le feature in array numpy\n",
    "X = np.array(X)\n",
    "y = np.array(y)\n",
    "\n",
    "np.save('./audio.npy', X)\n",
    "np.save('./target.npy', y)"
   ]
  },
  {
   "cell_type": "code",
   "execution_count": null,
   "metadata": {},
   "outputs": [],
   "source": [
    "X.shape\n"
   ]
  },
  {
   "cell_type": "code",
   "execution_count": null,
   "metadata": {},
   "outputs": [],
   "source": [
    "# Convertire le feature in array numpy\n",
    "# X = np.load(\"./audio.npy\")\n",
    "# y = np.load(\"./target.npy\")\n",
    "\n",
    "# torch.backends.cudnn.enabled = False\n",
    "\n",
    "# Convertire le label in numeri\n",
    "label_encoder = LabelEncoder()\n",
    "y = label_encoder.fit_transform(y)\n",
    "\n",
    "# Suddivisione del dataset\n",
    "X_train, X_test, y_train, y_test = train_test_split(X, y, test_size=0.2, random_state=42)\n",
    "\n",
    "# Creazione del Dataset personalizzato\n",
    "class AudioDataset(Dataset):\n",
    "    def __init__(self, X, y):\n",
    "        self.X = torch.tensor(X, dtype=torch.float32).unsqueeze(-1)\n",
    "        self.y = torch.tensor(y, dtype=torch.long)\n",
    "    \n",
    "    def __len__(self):\n",
    "        return len(self.X)\n",
    "    \n",
    "    def __getitem__(self, idx):\n",
    "        return self.X[idx], self.y[idx]\n",
    "\n",
    "# Creazione dei DataLoader\n",
    "train_dataset = AudioDataset(X_train, y_train)\n",
    "test_dataset = AudioDataset(X_test, y_test)\n",
    "train_loader = DataLoader(train_dataset, batch_size=32, shuffle=True)\n",
    "test_loader = DataLoader(test_dataset, batch_size=32, shuffle=False)\n",
    "\n",
    "# Definizione del modello LSTM\n",
    "class LSTMAudioClassifier(nn.Module):\n",
    "    def __init__(self, input_size, hidden_size, num_classes):\n",
    "        super(LSTMAudioClassifier, self).__init__()\n",
    "        self.lstm = nn.LSTM(input_size, hidden_size, batch_first=True, num_layers=2, dropout=0.3)\n",
    "        self.fc = nn.Linear(hidden_size, num_classes)\n",
    "    \n",
    "    def forward(self, x):\n",
    "        _, (hn, _) = self.lstm(x)\n",
    "        out = self.fc(hn[-1])\n",
    "        return out\n",
    "\n",
    "# Istanziamento del modello\n",
    "input_size = 1\n",
    "hidden_size = 128\n",
    "num_classes = 16\n",
    "model = LSTMAudioClassifier(input_size, hidden_size, num_classes)\n",
    "device = torch.device(\"cuda\" if torch.cuda.is_available() else \"cpu\")\n",
    "model.to(device)\n",
    "\n",
    "# Definizione della funzione di perdita e ottimizzatore\n",
    "criterion = nn.CrossEntropyLoss()\n",
    "optimizer = optim.Adam(model.parameters(), lr=0.001)\n",
    "\n",
    "# Training del modello\n",
    "epochs = 30\n",
    "for epoch in range(epochs):\n",
    "    model.train()\n",
    "    running_loss = 0.0\n",
    "    for inputs, labels in train_loader:\n",
    "        inputs, labels = inputs.to(device), labels.to(device)\n",
    "        optimizer.zero_grad()\n",
    "        outputs = model(inputs)\n",
    "        loss = criterion(outputs, labels)\n",
    "        loss.backward()\n",
    "        optimizer.step()\n",
    "        running_loss += loss.item()\n",
    "    print(f\"Epoch {epoch+1}/{epochs}, Loss: {running_loss/len(train_loader):.4f}\")\n",
    "\n",
    "# Valutazione del modello\n",
    "model.eval()\n",
    "correct = 0\n",
    "total = 0\n",
    "with torch.no_grad():\n",
    "    for inputs, labels in test_loader:\n",
    "        inputs, labels = inputs.to(device), labels.to(device)\n",
    "        outputs = model(inputs)\n",
    "        _, predicted = torch.max(outputs, 1)\n",
    "        total += labels.size(0)\n",
    "        correct += (predicted == labels).sum().item()\n",
    "\n",
    "print(f\"Test Accuracy: {100 * correct / total:.2f}%\")"
   ]
  },
  {
   "cell_type": "markdown",
   "metadata": {},
   "source": [
    "# Support Vector Machine for classification\n",
    "\n",
    "Il primo modello che abbiamo utilizzato è la Support Vector Machine appositamente adattata per i task di classificazione. Nello specifico, abbiamo usato la funzione kernel *Radial Basis Function* (RBF), visto che ha la caratteristica peculiare di far aumentare la distanza dagli altri punti in modo esponenziale."
   ]
  },
  {
   "cell_type": "code",
   "execution_count": null,
   "metadata": {},
   "outputs": [],
   "source": [
    "def svm(\n",
    "    X_train, y_train, X_test, y_test,\n",
    "    title: str = 'SVM',\n",
    "    kernel: str = 'rbf',\n",
    "    degree: int = 3,\n",
    "    C: float = 1.0,\n",
    "    gamma : Union[float, str] = 'scale'):\n",
    "\n",
    "    # create the model\n",
    "    model = sklearn.svm.SVC(kernel=\"rbf\", gamma=gamma, C=C, degree=degree)\n",
    "\n",
    "    # train the model\n",
    "    model.fit(X_train, y_train)\n",
    "    valuate(model, X_test, y_test, title=title)\n",
    "\n",
    "    return model"
   ]
  },
  {
   "cell_type": "code",
   "execution_count": null,
   "metadata": {},
   "outputs": [],
   "source": [
    "svm(X_trains[0], y_train, X_tests[0], y_test, title=\"SVM Original\")"
   ]
  },
  {
   "cell_type": "code",
   "execution_count": null,
   "metadata": {},
   "outputs": [],
   "source": [
    "svm(X_trains[1], y_train, X_tests[1], y_test, title=\"SVM reduced 90%\")"
   ]
  },
  {
   "cell_type": "code",
   "execution_count": null,
   "metadata": {},
   "outputs": [],
   "source": [
    "svm(X_trains[2], y_train, X_tests[2], y_test, title=\"SVM reduced 75%\")"
   ]
  },
  {
   "cell_type": "markdown",
   "metadata": {
    "jp-MarkdownHeadingCollapsed": true
   },
   "source": [
    "### Best kernel"
   ]
  },
  {
   "cell_type": "code",
   "execution_count": null,
   "metadata": {
    "colab": {
     "base_uri": "https://localhost:8080/",
     "height": 597
    },
    "id": "ZmGY-hPD6ANj",
    "outputId": "d6532901-916a-4b56-8f3e-cbcdc5b9cd44"
   },
   "outputs": [],
   "source": [
    "X_train, X_test = X_trains[1], X_tests[1]\n",
    "\n",
    "kernels = ['rbf', 'linear', 'poly', 'sigmoid']\n",
    "\n",
    "# Liste per raccogliere le metriche\n",
    "accuracy_results, f1_results = list(), list()\n",
    "scoring = ['accuracy', 'f1_weighted']\n",
    "\n",
    "for k in kernels:\n",
    "    model = sklearn.svm.SVC(kernel=k)\n",
    "    scores = cross_validate(model, X_train, y_train.values.ravel(), scoring=scoring, cv=10, n_jobs=8)\n",
    "    accuracy = np.mean(scores['test_accuracy'])\n",
    "    f1 = np.mean(scores['test_f1_weighted'])\n",
    "    accuracy_results.append(accuracy)\n",
    "    f1_results.append(f1)\n",
    "    print(f\"kernel={k}: Accuracy={accuracy:.4f}, F1_weighted={f1:.4f}\")"
   ]
  },
  {
   "cell_type": "code",
   "execution_count": null,
   "metadata": {},
   "outputs": [],
   "source": [
    "# find best kernel\n",
    "best_kernel = kernels[np.argmax(accuracy_results)]\n",
    "print(f'Best max depth: {best_kernel}')\n",
    "print(f'Best accuracy: {max(accuracy_results)}')"
   ]
  },
  {
   "cell_type": "code",
   "execution_count": null,
   "metadata": {},
   "outputs": [],
   "source": [
    "# Plot performance\n",
    "fig, ax = plt.subplots(1, 1, figsize=(14, 6))\n",
    "\n",
    "fig.suptitle('Performance SVM al variare del kernel', fontsize=16)\n",
    "\n",
    "ax.plot(kernels, accuracy_results, linestyle='-', label=\"Accuracy\", color='b')\n",
    "ax.plot(kernels, f1_results, linestyle='--', label=\"F1-score\", color='r')\n",
    "\n",
    "ax.set_xlabel(\"kernel\")\n",
    "ax.legend()\n",
    "\n",
    "plt.tight_layout()\n",
    "plt.show()"
   ]
  },
  {
   "cell_type": "markdown",
   "metadata": {
    "jp-MarkdownHeadingCollapsed": true
   },
   "source": [
    "### Learn best C"
   ]
  },
  {
   "cell_type": "code",
   "execution_count": null,
   "metadata": {
    "colab": {
     "base_uri": "https://localhost:8080/",
     "height": 597
    },
    "id": "ZmGY-hPD6ANj",
    "outputId": "d6532901-916a-4b56-8f3e-cbcdc5b9cd44"
   },
   "outputs": [],
   "source": [
    "X_train, X_test = X_trains[1], X_tests[1]\n",
    "warnings.filterwarnings(\"ignore\", category=FutureWarning)\n",
    "\n",
    "c_range = np.logspace(-2, 4, 5)\n",
    "\n",
    "# Liste per raccogliere le metriche\n",
    "accuracy_results, f1_results = [], []\n",
    "scoring = ['accuracy', 'f1_weighted']\n",
    "\n",
    "for c in c_range:\n",
    "    model = sklearn.svm.SVC(kernel=\"rbf\", gamma='scale', C=c)\n",
    "    scores = cross_validate(model, X_train, y_train.values.ravel(), scoring=scoring, cv=10, n_jobs=8)\n",
    "    accuracy = np.mean(scores['test_accuracy'])\n",
    "    f1 = np.mean(scores['test_f1_weighted'])\n",
    "    accuracy_results.append(accuracy)\n",
    "    f1_results.append(f1)\n",
    "    print(f\"c={c}: Accuracy={accuracy:.4f}, F1_weighted={f1:.4f}\")"
   ]
  },
  {
   "cell_type": "code",
   "execution_count": null,
   "metadata": {},
   "outputs": [],
   "source": [
    "# find best c (rbf kernel)\n",
    "best_c = c_range[np.argmax(accuracy_results)]\n",
    "print(f'Best c: {best_c}')\n",
    "print(f'Best accuracy: {max(accuracy_results)}')"
   ]
  },
  {
   "cell_type": "code",
   "execution_count": null,
   "metadata": {},
   "outputs": [],
   "source": [
    "# Plot performance\n",
    "fig, ax = plt.subplots(1, 1, figsize=(14, 6))\n",
    "\n",
    "fig.suptitle('Performance SVM (rbf) al variare di C', fontsize=16)\n",
    "\n",
    "ax.plot(c_range, accuracy_results, linestyle='-', label=\"Accuracy\", color='b')\n",
    "ax.plot(c_range, f1_results, linestyle='--', label=\"F1-score\", color='r')\n",
    "\n",
    "ax.set_xlabel(\"C\")\n",
    "ax.legend()\n",
    "\n",
    "plt.tight_layout()\n",
    "plt.show()"
   ]
  },
  {
   "cell_type": "markdown",
   "metadata": {
    "jp-MarkdownHeadingCollapsed": true
   },
   "source": [
    "### Learn best gamma"
   ]
  },
  {
   "cell_type": "code",
   "execution_count": null,
   "metadata": {
    "colab": {
     "base_uri": "https://localhost:8080/",
     "height": 597
    },
    "id": "ZmGY-hPD6ANj",
    "outputId": "d6532901-916a-4b56-8f3e-cbcdc5b9cd44"
   },
   "outputs": [],
   "source": [
    "X_train, X_test = X_trains[1], X_tests[1]\n",
    "\n",
    "gamma_range = np.logspace(-5, 1, 5)\n",
    "\n",
    "# Liste per raccogliere le metriche\n",
    "accuracy_results, train_results = list(), list()\n",
    "scoring = ['accuracy', 'f1_weighted']\n",
    "\n",
    "for gamma in gamma_range:\n",
    "    sklearn.svm.SVC(kernel=\"rbf\", gamma=gamma, C=best_c)\n",
    "    scores = cross_validate(model, X_train, y_train, scoring=scoring, cv=10, n_jobs=8)\n",
    "    accuracy = np.mean(scores['test_accuracy'])\n",
    "    f1 = np.mean(scores['test_f1_weighted'])\n",
    "    accuracy_results.append(accuracy)\n",
    "    f1_results.append(f1)\n",
    "    print(f\"gamma={gamma}: Accuracy={accuracy:.4f}, F1_weighted={f1:.4f}\")"
   ]
  },
  {
   "cell_type": "code",
   "execution_count": null,
   "metadata": {},
   "outputs": [],
   "source": [
    "# find best gamma (rbf kernel)\n",
    "best_gamma = gamma_range[np.argmax(accuracy_results)]\n",
    "print(f'Best gamma: {best_gamma}')\n",
    "print(f'Best accuracy: {max(accuracy_results)}')"
   ]
  },
  {
   "cell_type": "code",
   "execution_count": null,
   "metadata": {},
   "outputs": [],
   "source": [
    "# Plot performance\n",
    "fig, ax = plt.subplots(1, 1, figsize=(14, 6))\n",
    "\n",
    "fig.suptitle('Performance SVM (rbf) al variare di gamma', fontsize=16)\n",
    "\n",
    "ax.plot(gamma_range, accuracy_results, linestyle='-', label=\"Accuracy\", color='b')\n",
    "ax.plot(gamma_range, f1_results, linestyle='--', label=\"F1-score\", color='r')\n",
    "\n",
    "ax.set_xlabel(\"gamma\")\n",
    "ax.legend()\n",
    "\n",
    "plt.tight_layout()\n",
    "plt.show()"
   ]
  },
  {
   "cell_type": "markdown",
   "metadata": {
    "jp-MarkdownHeadingCollapsed": true
   },
   "source": [
    "### Learn best degree (poly kernel)"
   ]
  },
  {
   "cell_type": "code",
   "execution_count": null,
   "metadata": {
    "colab": {
     "base_uri": "https://localhost:8080/",
     "height": 597
    },
    "id": "ZmGY-hPD6ANj",
    "outputId": "d6532901-916a-4b56-8f3e-cbcdc5b9cd44"
   },
   "outputs": [],
   "source": [
    "X_train, X_test = X_trains[1], X_tests[1]\n",
    "\n",
    "degree_range = range(3,11)\n",
    "\n",
    "# Liste per raccogliere le metriche\n",
    "accuracy_results, f1_results = list(), list()\n",
    "scoring = ['accuracy', 'f1_weighted']\n",
    "\n",
    "for degree in degree_range:\n",
    "    sklearn.svm.SVC(kernel=\"poly\", gamma=best_gamma, C=best_c, degree=degree)\n",
    "    scores = cross_validate(model, X_train, y_train, scoring=scoring, cv=10, n_jobs=8)\n",
    "    accuracy = np.mean(scores['test_accuracy'])\n",
    "    f1 = np.mean(scores['test_f1_weighted'])\n",
    "    accuracy_results.append(accuracy)\n",
    "    f1_results.append(f1)\n",
    "    print(f\"degree={degree}: Accuracy={accuracy:.4f}, F1_weighted={f1:.4f}\")"
   ]
  },
  {
   "cell_type": "code",
   "execution_count": null,
   "metadata": {},
   "outputs": [],
   "source": [
    "# find best degree (poly kernel)\n",
    "best_degree = degree_range[np.argmax(accuracy_results)]\n",
    "print(f'Best degree: {best_degree}')\n",
    "print(f'Best accuracy: {max(accuracy_results)}')"
   ]
  },
  {
   "cell_type": "code",
   "execution_count": null,
   "metadata": {},
   "outputs": [],
   "source": [
    "# Plot performance\n",
    "fig, ax = plt.subplots(1, 1, figsize=(14, 6))\n",
    "\n",
    "fig.suptitle('Performance SVM (poly) al variare di degree', fontsize=16)\n",
    "\n",
    "ax.plot(degree_range, accuracy_results, linestyle='-', label=\"Accuracy\", color='b')\n",
    "ax.plot(degree_range, f1_results, linestyle='--', label=\"F1-score\", color='r')\n",
    "\n",
    "ax.set_xlabel(\"degree\")\n",
    "ax.legend()\n",
    "\n",
    "plt.tight_layout()\n",
    "plt.show()"
   ]
  },
  {
   "cell_type": "markdown",
   "metadata": {},
   "source": [
    "### GridSearchCV SVM"
   ]
  },
  {
   "cell_type": "code",
   "execution_count": null,
   "metadata": {},
   "outputs": [],
   "source": [
    "model = skl.svm.SVC()\n",
    "\n",
    "param_grid = {\n",
    "    'C': np.logspace(-2, 3, 5),          # Parametro di regolarizzazione\n",
    "    'kernel': ['rbf', 'linear', 'poly', 'sigmoid'],    # Tipo di kernel\n",
    "    'gamma': np.logspace(-5, -1, 7),  # Coefficiente del kernel (solo per kernel 'rbf')\n",
    "}\n",
    "\n",
    "grid_search = GridSearchCV(estimator=model, param_grid=param_grid, cv=10, n_jobs=8)\n",
    "\n",
    "grid_search.fit(X_trains[1], y_train)\n",
    "\n",
    "best_params = grid_search.best_params_\n",
    "best_model = grid_search.best_estimator_\n",
    "\n",
    "accuracy = best_model.score(X_tests[1], y_test)\n",
    "print(f'Migliori parametri: {best_params}')\n",
    "print(f'Accuracy del modello ottimizzato: {accuracy}')"
   ]
  },
  {
   "cell_type": "markdown",
   "metadata": {},
   "source": [
    "## Valuate best model"
   ]
  },
  {
   "cell_type": "code",
   "execution_count": null,
   "metadata": {},
   "outputs": [],
   "source": [
    "valuate(best_model, X_tests[1], y_test)"
   ]
  },
  {
   "cell_type": "markdown",
   "metadata": {
    "editable": true,
    "slideshow": {
     "slide_type": ""
    },
    "tags": []
   },
   "source": [
    "# Tree-based models\n",
    "\n",
    "In questa sezione esploriamo i modelli basati su strutture ad albero:\n",
    "- Decision Tree\n",
    "- Bagging\n",
    "- Random Forest\n",
    "- AdaBoost\n",
    "- XGBoost\n",
    "\n",
    "Per ogni modello proponiamo una specifica configurazione dei meta-parametri e poi esploriamo le sue performance al variare di questi."
   ]
  },
  {
   "cell_type": "markdown",
   "metadata": {},
   "source": [
    "## Decision Tree\n",
    "\n",
    "In questo caso fissiamo *max_depth*=10.\n"
   ]
  },
  {
   "cell_type": "code",
   "execution_count": null,
   "metadata": {},
   "outputs": [],
   "source": [
    "maxdepth=10\n",
    "def tree_clf(X_train, y_train, X_test, y_test, criterion = 'gini', maxdepth = 10, title: str = 'Decision Tree'):\n",
    "\n",
    "    # create the model\n",
    "    model = tree.DecisionTreeClassifier(max_depth=maxdepth, class_weight='balanced')\n",
    "\n",
    "    # train the model\n",
    "    model.fit(X_train, y_train)\n",
    "\n",
    "    # make predictions and plot statistics and confusion matric\n",
    "    valuate(model, X_test, y_test, title=title)\n"
   ]
  },
  {
   "cell_type": "code",
   "execution_count": null,
   "metadata": {},
   "outputs": [],
   "source": [
    "tree_clf(X_trains[0], y_train, X_tests[0], y_test, maxdepth=maxdepth, title=\"DecTree Original\")"
   ]
  },
  {
   "cell_type": "code",
   "execution_count": null,
   "metadata": {},
   "outputs": [],
   "source": [
    "tree_clf(X_trains[1], y_train, X_tests[1], y_test, maxdepth=maxdepth, title=\"DecTree Reduced 90%\")"
   ]
  },
  {
   "cell_type": "code",
   "execution_count": null,
   "metadata": {},
   "outputs": [],
   "source": [
    "tree_clf(X_trains[2], y_train, X_tests[2], y_test, maxdepth=maxdepth, title=\"DecTree Reduced 75%\")"
   ]
  },
  {
   "cell_type": "markdown",
   "metadata": {
    "jp-MarkdownHeadingCollapsed": true
   },
   "source": [
    "### Learn max_depth"
   ]
  },
  {
   "cell_type": "markdown",
   "metadata": {},
   "source": [
    "Di seguito, invece, facciamo variare il parametri delle *max_depth* con i valori nel range (1,32). Dal grafico in basso, si vede che le massime prestazioni si ottengono con un altezza pari a 25."
   ]
  },
  {
   "cell_type": "markdown",
   "metadata": {},
   "source": [
    "#### without cross validation"
   ]
  },
  {
   "cell_type": "code",
   "execution_count": null,
   "metadata": {},
   "outputs": [],
   "source": [
    "# select only one dataset\n",
    "X_train = X_trains[1]\n",
    "\n",
    "max_depth_range = np.linspace(1, 32, 32, endpoint=True).astype(int)\n",
    "\n",
    "# Liste per raccogliere le metriche\n",
    "train_accuracies = []\n",
    "test_accuracies = []\n",
    "train_f1_scores = []\n",
    "test_f1_scores = []\n",
    "\n",
    "# Loop per testare diversi valori di max_depth\n",
    "for n in max_depth_range:\n",
    "    model = tree.DecisionTreeClassifier(max_depth=n, criterion='gini', splitter='best')\n",
    "    model.fit(X_train, y_train)\n",
    "    y_pred_test = model.predict(X_val)\n",
    "    y_pred_train = model.predict(X_train)\n",
    "\n",
    "    acc_test = accuracy_score(y_val, y_pred_test)\n",
    "    f1_test = f1_score(y_val, y_pred_test, average='weighted')\n",
    "    \n",
    "    acc_train = accuracy_score(y_train, y_pred_train)\n",
    "    f1_train = f1_score(y_train, y_pred_train, average='weighted')\n",
    "\n",
    "    train_accuracies.append(acc_train)\n",
    "    train_f1_scores.append(f1_train)\n",
    "    test_accuracies.append(acc_test)\n",
    "    test_f1_scores.append(f1_test)\n",
    "\n",
    "    print(f\"max_depth = {n}: Accuracy = {acc_test:.4f}, F1-weighted = {f1_test:.4f}\")"
   ]
  },
  {
   "cell_type": "code",
   "execution_count": null,
   "metadata": {},
   "outputs": [],
   "source": [
    "# find the best max depth\n",
    "best_max_depth = max_depth_range[np.argmax(test_accuracies)]\n",
    "print(f'Best max depth: {best_max_depth}')\n",
    "print(f'Best accuracy: {max(test_accuracies)}')"
   ]
  },
  {
   "cell_type": "code",
   "execution_count": null,
   "metadata": {},
   "outputs": [],
   "source": [
    "# Plot performance\n",
    "fig, ax = plt.subplots(1, 2, figsize=(14, 6))\n",
    "\n",
    "fig.suptitle('Performance Decision Tree al variare di max_depth', fontsize=16)\n",
    "\n",
    "ax[0].plot(max_depth_range, train_accuracies, linestyle='-', label=\"Train\", color='b')\n",
    "ax[0].plot(max_depth_range, test_accuracies, linestyle='--', label=\"Test\", color='r')\n",
    "\n",
    "ax[0].set_xlabel(\"Tree depth\")\n",
    "ax[0].set_ylabel(\"Accuracy\")\n",
    "ax[0].legend()\n",
    "\n",
    "ax[1].plot(max_depth_range, train_f1_scores, linestyle='-', label=\"Train\", color='b')\n",
    "ax[1].plot(max_depth_range, test_f1_scores, linestyle='--', label=\"Test\", color='r')\n",
    "\n",
    "ax[1].set_xlabel(\"Tree depth\")\n",
    "ax[1].set_ylabel(\"f1-score\")\n",
    "ax[1].legend()\n",
    "\n",
    "plt.tight_layout()\n",
    "plt.show()"
   ]
  },
  {
   "cell_type": "markdown",
   "metadata": {},
   "source": [
    "#### with cross validation"
   ]
  },
  {
   "cell_type": "code",
   "execution_count": null,
   "metadata": {},
   "outputs": [],
   "source": [
    "# select only one dataset\n",
    "X_train, X_test = X_trains[1], X_tests[1]\n",
    "\n",
    "max_depth_range = np.linspace(1, 32, 32, endpoint=True).astype(int)\n",
    "\n",
    "# Liste per raccogliere le metriche\n",
    "accuracy_results = []\n",
    "f1_results = []\n",
    "\n",
    "scoring = ['accuracy', 'f1_weighted']\n",
    "for n in max_depth_range:\n",
    "    model = tree.DecisionTreeClassifier(max_depth=n, criterion='gini', splitter='best')\n",
    "    scores = cross_validate(model, X_train, y_train, scoring=scoring, cv=10, n_jobs=-1)\n",
    "    accuracy = np.mean(scores['test_accuracy'])\n",
    "    f1 = np.mean(scores['test_f1_weighted'])\n",
    "    accuracy_results.append(accuracy)\n",
    "    f1_results.append(f1)\n",
    "    print(f\"max_depth_range={n}: Accuracy={accuracy:.4f}, F1_weighted={f1:.4f}\")"
   ]
  },
  {
   "cell_type": "code",
   "execution_count": null,
   "metadata": {},
   "outputs": [],
   "source": [
    "# find the best max depth\n",
    "best_max_depth = max_depth_range[np.argmax(accuracy_results)]\n",
    "print(f'Best max depth: {best_max_depth}')\n",
    "print(f'Best accuracy: {max(accuracy_results)}')"
   ]
  },
  {
   "cell_type": "code",
   "execution_count": null,
   "metadata": {},
   "outputs": [],
   "source": [
    "# Plot performance\n",
    "fig, ax = plt.subplots(1, 1, figsize=(14, 6))\n",
    "\n",
    "fig.suptitle('Performance Decision Tree al variare di max_depth', fontsize=16)\n",
    "\n",
    "ax.plot(max_depth_range, accuracy_results, linestyle='-', label=\"Accuracy\", color='b')\n",
    "ax.plot(max_depth_range, f1_results, linestyle='--', label=\"F1-score\", color='r')\n",
    "\n",
    "ax.set_xlabel(\"Tree depth\")\n",
    "ax.legend()\n",
    "\n",
    "plt.tight_layout()\n",
    "plt.show()"
   ]
  },
  {
   "cell_type": "markdown",
   "metadata": {
    "jp-MarkdownHeadingCollapsed": true
   },
   "source": [
    "### Learn min_samples_split"
   ]
  },
  {
   "cell_type": "code",
   "execution_count": null,
   "metadata": {},
   "outputs": [],
   "source": [
    "min_samples_split_range = np.linspace(0.01, 1.0, 20, endpoint=True)\n",
    "\n",
    "# Liste per raccogliere le metriche\n",
    "train_accuracies = []\n",
    "test_accuracies = []\n",
    "train_f1_scores = []\n",
    "test_f1_scores = []\n",
    "\n",
    "Loop per testare diversi valori di min_samples_split\n",
    "for min_samples_split in min_samples_split_range:\n",
    "    model = tree.DecisionTreeClassifier(max_depth=best_max_depth, criterion='gini', splitter='best', min_samples_split=min_samples_split)\n",
    "    model.fit(X_train, y_train)\n",
    "    y_pred_test = model.predict(X_test)\n",
    "    y_pred_train = model.predict(X_train)\n",
    "\n",
    "    acc_test = accuracy_score(y_test, y_pred_test)\n",
    "    f1_test = f1_score(y_test, y_pred_test, average='weighted')\n",
    "    \n",
    "    acc_train = accuracy_score(y_train, y_pred_train)\n",
    "    f1_train = f1_score(y_train, y_pred_train, average='weighted')\n",
    "\n",
    "    train_accuracies.append(acc_train)\n",
    "    train_f1_scores.append(f1_train)\n",
    "    test_accuracies.append(acc_test)\n",
    "    test_f1_scores.append(f1_test)\n",
    "\n",
    "    print(f\"min_sample_split={min_samples_split}: Accuracy={acc_test:.4f}, F1_weighted={f1_test:.4f}\")\n"
   ]
  },
  {
   "cell_type": "code",
   "execution_count": null,
   "metadata": {},
   "outputs": [],
   "source": [
    "# find the best min samples split\n",
    "best_min_samples_split = min_samples_split_range[np.argmax(test_accuracies)]\n",
    "print(f'Best min samples split: {best_min_samples_split}')\n",
    "print(f'Best accuracy: {max(test_accuracies)}')"
   ]
  },
  {
   "cell_type": "code",
   "execution_count": null,
   "metadata": {},
   "outputs": [],
   "source": [
    "# Plot performance\n",
    "fig, ax = plt.subplots(1, 2, figsize=(14, 6))\n",
    "\n",
    "fig.suptitle('Performance Decision Tree al variare di min_sample_split', fontsize=16)\n",
    "\n",
    "ax[0].plot(min_samples_split_range, train_accuracies, linestyle='-', label=\"Train\", color='b')\n",
    "ax[0].plot(min_samples_split_range, test_accuracies, linestyle='--', label=\"Test\", color='r')\n",
    "\n",
    "ax[0].set_xlabel(\"Min Sample Split\")\n",
    "ax[0].set_ylabel(\"Accuracy\")\n",
    "ax[0].legend()\n",
    "\n",
    "ax[1].plot(min_samples_split_range, train_f1_scores, linestyle='-', label=\"Train\", color='b')\n",
    "ax[1].plot(min_samples_split_range, test_f1_scores, linestyle='--', label=\"Test\", color='r')\n",
    "\n",
    "ax[1].set_xlabel(\"Min Sample Split\")\n",
    "ax[1].set_ylabel(\"f1-score\")\n",
    "ax[1].legend()\n",
    "\n",
    "plt.tight_layout()\n",
    "plt.show()"
   ]
  },
  {
   "cell_type": "markdown",
   "metadata": {},
   "source": [
    "#### with cross validation"
   ]
  },
  {
   "cell_type": "code",
   "execution_count": null,
   "metadata": {},
   "outputs": [],
   "source": [
    "# select only one dataset\n",
    "X_train, X_test = X_trains[1], X_tests[1]\n",
    "\n",
    "min_samples_split_range = np.linspace(0.01, 1.0, 20, endpoint=True)\n",
    "\n",
    "# Liste per raccogliere le metriche\n",
    "accuracy_results = []\n",
    "f1_results = []\n",
    "\n",
    "scoring = ['accuracy', 'f1_weighted']\n",
    "for min_samples_split in min_samples_split_range:\n",
    "    model = tree.DecisionTreeClassifier(max_depth=best_max_depth, criterion='gini', splitter='best', min_samples_split=min_samples_split)\n",
    "    scores = cross_validate(model, X_train, y_train, scoring=scoring, cv=10, n_jobs=-1)\n",
    "    accuracy = np.mean(scores['test_accuracy'])\n",
    "    f1 = np.mean(scores['test_f1_weighted'])\n",
    "    accuracy_results.append(accuracy)\n",
    "    f1_results.append(f1)\n",
    "    print(f\"min_samples_split={min_samples_split}: Accuracy={accuracy:.4f}, F1_weighted={f1:.4f}\")"
   ]
  },
  {
   "cell_type": "code",
   "execution_count": null,
   "metadata": {},
   "outputs": [],
   "source": [
    "# find the best min samples split\n",
    "best_min_samples_split = min_samples_split_range[np.argmax(accuracy_results)]\n",
    "print(f'Best min samples split: {best_min_samples_split}')\n",
    "print(f'Best accuracy: {max(accuracy_results)}')"
   ]
  },
  {
   "cell_type": "code",
   "execution_count": null,
   "metadata": {},
   "outputs": [],
   "source": [
    "# Plot performance\n",
    "fig, ax = plt.subplots(1, 1, figsize=(14, 6))\n",
    "\n",
    "fig.suptitle('Performance Decision Tree al variare di min_samples_split', fontsize=16)\n",
    "\n",
    "ax.plot(min_samples_split_range, accuracy_results, linestyle='-', label=\"Accuracy\", color='b')\n",
    "ax.plot(min_samples_split_range, f1_results, linestyle='--', label=\"F1-score\", color='r')\n",
    "\n",
    "ax.set_xlabel(\"Min Sample Split\")\n",
    "ax.legend()\n",
    "\n",
    "plt.tight_layout()\n",
    "plt.show()"
   ]
  },
  {
   "cell_type": "markdown",
   "metadata": {
    "jp-MarkdownHeadingCollapsed": true
   },
   "source": [
    "### Learn min_samples_leaf"
   ]
  },
  {
   "cell_type": "code",
   "execution_count": null,
   "metadata": {},
   "outputs": [],
   "source": [
    "min_samples_leaf_range = [1, 5, 10, 15, 20]\n",
    "\n",
    "# Liste per raccogliere le metriche\n",
    "train_accuracies = []\n",
    "test_accuracies = []\n",
    "train_f1_scores = []\n",
    "test_f1_scores = []\n",
    "\n",
    "# Loop per testare diversi valori di min_samples_split\n",
    "for min_samples_leaf in min_samples_leaf_range:\n",
    "    model = tree.DecisionTreeClassifier(max_depth=best_max_depth, criterion='gini', splitter='best', min_samples_split=best_min_samples_split, min_samples_leaf=min_samples_leaf)\n",
    "    model.fit(X_train, y_train)\n",
    "    y_pred_test = model.predict(X_test)\n",
    "    y_pred_train = model.predict(X_train)\n",
    "\n",
    "    acc_test = accuracy_score(y_test, y_pred_test)\n",
    "    f1_test = f1_score(y_test, y_pred_test, average='weighted')\n",
    "    \n",
    "    acc_train = accuracy_score(y_train, y_pred_train)\n",
    "    f1_train = f1_score(y_train, y_pred_train, average='weighted')\n",
    "\n",
    "    train_accuracies.append(acc_train)\n",
    "    train_f1_scores.append(f1_train)\n",
    "    test_accuracies.append(acc_test)\n",
    "    test_f1_scores.append(f1_test)\n",
    "\n",
    "    print(f\"min_sample_leaf={min_samples_leaf}: Accuracy={acc_test:.4f}, F1_weighted={f1_test:.4f}\")"
   ]
  },
  {
   "cell_type": "code",
   "execution_count": null,
   "metadata": {},
   "outputs": [],
   "source": [
    "# find the best min samples split\n",
    "best_min_samples_leaf = min_samples_leaf_range[np.argmax(test_accuracies)]\n",
    "print(f'Best min samples split: {best_min_samples_leaf}')\n",
    "print(f'Best accuracy: {max(test_accuracies)}')"
   ]
  },
  {
   "cell_type": "code",
   "execution_count": null,
   "metadata": {},
   "outputs": [],
   "source": [
    "# Plot performance\n",
    "fig, ax = plt.subplots(1, 2, figsize=(14, 6))\n",
    "\n",
    "fig.suptitle('Performance Decision Tree al variare di min_sample_leaf', fontsize=16)\n",
    "\n",
    "ax[0].plot(min_samples_leaf_range, train_accuracies, linestyle='-', label=\"Train\", color='b')\n",
    "ax[0].plot(min_samples_leaf_range, test_accuracies, linestyle='--', label=\"Test\", color='r')\n",
    "\n",
    "ax[0].set_xlabel(\"Min Sample Leaf\")\n",
    "ax[0].set_ylabel(\"Accuracy\")\n",
    "ax[0].legend()\n",
    "\n",
    "ax[1].plot(min_samples_leaf_range, train_f1_scores, linestyle='-', label=\"Train\", color='b')\n",
    "ax[1].plot(min_samples_leaf_range, test_f1_scores, linestyle='--', label=\"Test\", color='r')\n",
    "\n",
    "ax[1].set_xlabel(\"Min Sample Leaf\")\n",
    "ax[1].set_ylabel(\"f1-score\")\n",
    "ax[1].legend()\n",
    "\n",
    "plt.tight_layout()\n",
    "plt.show()"
   ]
  },
  {
   "cell_type": "markdown",
   "metadata": {
    "jp-MarkdownHeadingCollapsed": true
   },
   "source": [
    "#### with cross validation"
   ]
  },
  {
   "cell_type": "code",
   "execution_count": null,
   "metadata": {},
   "outputs": [],
   "source": [
    "# select only one dataset\n",
    "X_train, X_test = X_trains[1], X_tests[1]\n",
    "\n",
    "min_samples_leaf_range = [1, 5, 10, 15, 20]\n",
    "\n",
    "# Liste per raccogliere le metriche\n",
    "accuracy_results = []\n",
    "f1_results = []\n",
    "\n",
    "scoring = ['accuracy', 'f1_weighted']\n",
    "for min_samples_leaf in min_samples_leaf_range:\n",
    "    model = tree.DecisionTreeClassifier(max_depth=best_max_depth, criterion='gini', splitter='best', min_samples_split=best_min_samples_split, min_samples_leaf=min_samples_leaf)\n",
    "    scores = cross_validate(model, X_train, y_train, scoring=scoring, cv=10, n_jobs=-1)\n",
    "    accuracy = np.mean(scores['test_accuracy'])\n",
    "    f1 = np.mean(scores['test_f1_weighted'])\n",
    "    accuracy_results.append(accuracy)\n",
    "    f1_results.append(f1)\n",
    "    print(f\"min_sample_leaf={min_samples_leaf}: Accuracy={accuracy:.4f}, F1_weighted={f1:.4f}\")"
   ]
  },
  {
   "cell_type": "code",
   "execution_count": null,
   "metadata": {},
   "outputs": [],
   "source": [
    "# find the best max depth\n",
    "best_min_samples_leaf = min_samples_leaf_range[np.argmax(accuracy_results)]\n",
    "print(f'Best min samples split: {best_min_samples_leaf}')\n",
    "print(f'Best accuracy: {max(accuracy_results)}')"
   ]
  },
  {
   "cell_type": "code",
   "execution_count": null,
   "metadata": {},
   "outputs": [],
   "source": [
    "# Plot performance\n",
    "fig, ax = plt.subplots(1, 1, figsize=(14, 6))\n",
    "\n",
    "fig.suptitle('Performance Decision Tree al variare di min_samples_leaf', fontsize=16)\n",
    "\n",
    "ax.plot(min_samples_leaf_range, accuracy_results, linestyle='-', label=\"Accuracy\", color='b')\n",
    "ax.plot(min_samples_leaf_range, f1_results, linestyle='--', label=\"F1-score\", color='r')\n",
    "\n",
    "ax.set_xlabel(\"Min Samples Split\")\n",
    "ax.legend()\n",
    "\n",
    "plt.tight_layout()\n",
    "plt.show()"
   ]
  },
  {
   "cell_type": "markdown",
   "metadata": {
    "jp-MarkdownHeadingCollapsed": true
   },
   "source": [
    "### Learn max_features"
   ]
  },
  {
   "cell_type": "code",
   "execution_count": null,
   "metadata": {},
   "outputs": [],
   "source": [
    "# select only one dataset\n",
    "X_train, X_test = X_trains[1], X_tests[1]\n",
    "\n",
    "max_features_range = [None, 'sqrt', 'log2', 150]\n",
    "\n",
    "# Liste per raccogliere le metriche\n",
    "accuracy_results = []\n",
    "f1_results = []\n",
    "\n",
    "scoring = ['accuracy', 'f1_weighted']\n",
    "for m in max_features_range:\n",
    "    model = tree.DecisionTreeClassifier(max_depth=best_max_depth, \\\n",
    "                                        criterion='gini', splitter='best', \\\n",
    "                                        min_samples_split=best_min_samples_split, \\\n",
    "                                        min_samples_leaf=best_min_samples_leaf, max_features=m)\n",
    "    scores = cross_validate(model, X_train, y_train, scoring=scoring, cv=10, n_jobs=-1)\n",
    "    accuracy = np.mean(scores['test_accuracy'])\n",
    "    f1 = np.mean(scores['test_f1_weighted'])\n",
    "    accuracy_results.append(accuracy)\n",
    "    f1_results.append(f1)\n",
    "    print(f\"max_features={m}: Accuracy={accuracy:.4f}, F1_weighted={f1:.4f}\")"
   ]
  },
  {
   "cell_type": "code",
   "execution_count": null,
   "metadata": {},
   "outputs": [],
   "source": [
    "# find the best max feature\n",
    "best_min_samples_leaf = min_samples_leaf_range[np.argmax(accuracy_results)]\n",
    "print(f'Best min samples split: {best_min_samples_leaf}')\n",
    "print(f'Best accuracy: {max(accuracy_results)}')"
   ]
  },
  {
   "cell_type": "code",
   "execution_count": null,
   "metadata": {},
   "outputs": [],
   "source": [
    "# Plot performance\n",
    "fig, ax = plt.subplots(1, 1, figsize=(14, 6))\n",
    "\n",
    "fig.suptitle('Performance Decision Tree al variare di min_samples_leaf', fontsize=16)\n",
    "\n",
    "ax.plot(min_samples_leaf_range, accuracy_results, linestyle='-', label=\"Accuracy\", color='b')\n",
    "ax.plot(min_samples_leaf_range, f1_results, linestyle='--', label=\"F1-score\", color='r')\n",
    "\n",
    "ax.set_xlabel(\"Min Samples Split\")\n",
    "ax.legend()\n",
    "\n",
    "plt.tight_layout()\n",
    "plt.show()"
   ]
  },
  {
   "cell_type": "markdown",
   "metadata": {},
   "source": [
    "### GridSearchCV decision tree"
   ]
  },
  {
   "cell_type": "code",
   "execution_count": null,
   "metadata": {},
   "outputs": [],
   "source": [
    "param_grid = {\n",
    "    'criterion': ['gini', 'entropy', 'log_loss'],\n",
    "    'max_depth': np.linspace(1, 32, 32, endpoint=True).astype(int),\n",
    "    'min_samples_split': np.linspace(0.01, 1.0, 20, endpoint=True),\n",
    "    'min_samples_leaf': [1, 5, 10, 15, 20]\n",
    "}\n",
    "\n",
    "model = tree.DecisionTreeClassifier()\n",
    "\n",
    "grid_search = GridSearchCV(estimator = model, param_grid=param_grid, cv=10, n_jobs=8)\n",
    "\n",
    "grid_search.fit(X_train, y_train)\n",
    "\n",
    "best_params = grid_search.best_params_\n",
    "best_model = grid_search.best_estimator_\n",
    "\n",
    "accuracy = best_model.score(X_test, y_test)\n",
    "\n",
    "print(f'Migliori parametri: {best_params}')\n",
    "print(f'Accuracy del modello ottimizzato: {accuracy}')"
   ]
  },
  {
   "cell_type": "markdown",
   "metadata": {},
   "source": [
    "### Valuate best model"
   ]
  },
  {
   "cell_type": "code",
   "execution_count": null,
   "metadata": {},
   "outputs": [],
   "source": [
    "valuate(best_model, X_tests[1], y_test)"
   ]
  },
  {
   "cell_type": "markdown",
   "metadata": {},
   "source": [
    "## Bagging\n",
    "\n",
    "La configurazione dei parametri che proponiamo è la seguente:\n",
    "- *max_depth* = 1\n",
    "- *n_estimators* = 8 (Numero di aberi)\n",
    "\n",
    "Così, otteniamo i risultati in basso"
   ]
  },
  {
   "cell_type": "code",
   "execution_count": 17,
   "metadata": {},
   "outputs": [],
   "source": [
    "n_est = 8\n",
    "md = 1\n",
    "\n",
    "def bagging_clf(X_train, y_train, X_test, y_test, n_est = 8, md = 1, title: str = 'Bagging'):\n",
    "\n",
    "    # create the model\n",
    "    classifier = tree.DecisionTreeClassifier(max_depth=md)\n",
    "    model = BaggingClassifier(classifier,n_estimators=n_est)\n",
    "\n",
    "    # train the model\n",
    "    model.fit(X_train, y_train)\n",
    "\n",
    "    # make predictions and plot statistics and confusion matric\n",
    "    valuate(model, X_test, y_test, title=title)"
   ]
  },
  {
   "cell_type": "code",
   "execution_count": null,
   "metadata": {},
   "outputs": [],
   "source": [
    "bagging_clf(X_trains[0], y_train, X_tests[0], y_test, n_est = n_est, md = md, title = 'Bagging Original')"
   ]
  },
  {
   "cell_type": "code",
   "execution_count": null,
   "metadata": {},
   "outputs": [],
   "source": [
    "bagging_clf(X_trains[1], y_train, X_tests[1], y_test, n_est = n_est, md = md, title = 'Bagging Reduced 90%')"
   ]
  },
  {
   "cell_type": "code",
   "execution_count": null,
   "metadata": {},
   "outputs": [],
   "source": [
    "bagging_clf(X_trains[2], y_train, X_tests[2], y_test, n_est = n_est, md = md, title = 'Bagging Reduced 75%')"
   ]
  },
  {
   "cell_type": "markdown",
   "metadata": {},
   "source": [
    "### Model selection bagging\n",
    "Esploriamo ora le performance del bagging facendo variare i meta-parametri, nello specifico:\n",
    "- *max_depth* $\\in$ [5, 10, 20, 30, 40] \n",
    "- *n_estimators* $\\in$ [1,3, 5, 10, None]"
   ]
  },
  {
   "cell_type": "code",
   "execution_count": 14,
   "metadata": {},
   "outputs": [
    {
     "name": "stdout",
     "output_type": "stream",
     "text": [
      "n_trees=5, max_depth=1: Accuracy=0.4202, F1_weighted=0.2948\n",
      "n_trees=5, max_depth=5: Accuracy=0.4963, F1_weighted=0.4257\n",
      "n_trees=5, max_depth=10: Accuracy=0.5195, F1_weighted=0.4766\n",
      "n_trees=10, max_depth=1: Accuracy=0.4198, F1_weighted=0.2945\n",
      "n_trees=10, max_depth=5: Accuracy=0.4968, F1_weighted=0.4272\n",
      "n_trees=10, max_depth=10: Accuracy=0.5391, F1_weighted=0.4887\n",
      "n_trees=20, max_depth=1: Accuracy=0.4191, F1_weighted=0.2941\n",
      "n_trees=20, max_depth=5: Accuracy=0.4982, F1_weighted=0.4279\n",
      "n_trees=20, max_depth=10: Accuracy=0.5506, F1_weighted=0.4982\n"
     ]
    },
    {
     "data": {
      "image/png": "[encoded data removed]",
      "text/plain": [
       "<Figure size 1200x500 with 4 Axes>"
      ]
     },
     "metadata": {},
     "output_type": "display_data"
    }
   ],
   "source": [
    "# select just one dataset\n",
    "X_train, X_test = X_trains[1], X_tests[1]\n",
    "\n",
    "n_trees_values = list(range(1,40))  # Numero di alberi nel bagging\n",
    "max_depth_values = list(range(1,10)) + [None]  # Profondità degli alberi (None = senza limite)\n",
    "\n",
    "# Matrici per salvare le metriche\n",
    "accuracy_matrix = np.zeros((len(n_trees_values), len(max_depth_values)))\n",
    "f1_matrix = np.zeros((len(n_trees_values), len(max_depth_values)))\n",
    "\n",
    "scoring = ['accuracy', 'f1_weighted']\n",
    "\n",
    "# Loop su entrambi i parametri\n",
    "for i, n_trees in enumerate(n_trees_values):\n",
    "    for j, depth in enumerate(max_depth_values):\n",
    "        base_tree = tree.DecisionTreeClassifier(max_depth=depth, random_state=42)\n",
    "        model = BaggingClassifier(estimator=base_tree, n_estimators=n_trees, random_state=42)\n",
    "        \n",
    "        scores = cross_validate(model, X_train, y_train.values.ravel(), scoring=scoring, cv=10, n_jobs=8)\n",
    "        acc = np.mean(scores['test_accuracy'])\n",
    "        f1 = np.mean(scores['test_f1_weighted'])\n",
    "        \n",
    "        # model.fit(X_train, y_train)\n",
    "        # y_pred = model.predict(X_val)\n",
    "\n",
    "        # acc = accuracy_score(y_val, y_pred)\n",
    "        # f1 = f1_score(y_val, y_pred, average='weighted')\n",
    "\n",
    "        accuracy_matrix[i, j] = acc\n",
    "        f1_matrix[i, j] = f1\n",
    "\n",
    "        print(f\"n_trees={n_trees}, max_depth={depth}: Accuracy={acc:.4f}, F1_weighted={f1:.4f}\")\n",
    "\n",
    "# Creazione delle heatmap per visualizzare i risultati\n",
    "fig, ax = plt.subplots(1, 2, figsize=(12, 5))\n",
    "\n",
    "sns.heatmap(accuracy_matrix, annot=True, fmt=\".4f\", xticklabels=max_depth_values, yticklabels=n_trees_values, cmap=\"Blues\", ax=ax[0])\n",
    "ax[0].set_title(\"Accuracy Heatmap\")\n",
    "ax[0].set_xlabel(\"max_depth\")\n",
    "ax[0].set_ylabel(\"n_trees\")\n",
    "\n",
    "sns.heatmap(f1_matrix, annot=True, fmt=\".4f\", xticklabels=max_depth_values, yticklabels=n_trees_values, cmap=\"Reds\", ax=ax[1])\n",
    "ax[1].set_title(\"F1 Weighted Heatmap\")\n",
    "ax[1].set_xlabel(\"max_depth\")\n",
    "ax[1].set_ylabel(\"n_trees\")\n",
    "\n",
    "plt.tight_layout()\n",
    "plt.show()"
   ]
  },
  {
   "cell_type": "markdown",
   "metadata": {},
   "source": [
    "### Valuate best model"
   ]
  },
  {
   "cell_type": "code",
   "execution_count": 15,
   "metadata": {},
   "outputs": [],
   "source": [
    "from numpy import unravel_index\n",
    "\n",
    "i,j = unravel_index(accuracy_matrix.argmax(), accuracy_matrix.shape)\n",
    "best_n_trees, best_md = n_trees_values[i], max_depth_values[j]"
   ]
  },
  {
   "cell_type": "code",
   "execution_count": 18,
   "metadata": {},
   "outputs": [
    {
     "name": "stdout",
     "output_type": "stream",
     "text": [
      "                     precision    recall  f1-score   support\n",
      "\n",
      "              blues       0.00      0.00      0.00         8\n",
      "          classical       0.59      0.68      0.63        77\n",
      "            country       0.00      0.00      0.00        16\n",
      "     easy listening       0.00      0.00      0.00         4\n",
      "         electronic       0.54      0.75      0.63       606\n",
      "       experimental       0.43      0.17      0.24       226\n",
      "               folk       0.39      0.54      0.46       152\n",
      "            hip-hop       0.60      0.36      0.45       223\n",
      "       instrumental       0.43      0.22      0.29       137\n",
      "      international       0.49      0.17      0.26       104\n",
      "               jazz       0.67      0.10      0.17        41\n",
      "old-time / historic       0.79      0.82      0.80        45\n",
      "                pop       0.60      0.02      0.05       126\n",
      "               rock       0.59      0.82      0.68       699\n",
      "           soul-rnb       0.00      0.00      0.00        19\n",
      "             spoken       0.25      0.07      0.11        15\n",
      "\n",
      "           accuracy                           0.55      2498\n",
      "          macro avg       0.40      0.29      0.30      2498\n",
      "       weighted avg       0.53      0.55      0.50      2498\n",
      "\n"
     ]
    },
    {
     "data": {
      "image/png": "[encoded data removed]",
      "text/plain": [
       "<Figure size 1000x1000 with 2 Axes>"
      ]
     },
     "metadata": {},
     "output_type": "display_data"
    }
   ],
   "source": [
    "bagging_clf(X_trains[1], y_train, X_tests[1], y_test, n_est = best_n_trees, md = best_md, title = 'Bagging Reduced 90% (best hyperparameters)')"
   ]
  },
  {
   "cell_type": "markdown",
   "metadata": {},
   "source": [
    "## Random forest\n",
    "\n",
    "Qui proponiamo una configurazione iniziale con 100 alberi di altezza al più 3. Seguono i risultati."
   ]
  },
  {
   "cell_type": "code",
   "execution_count": 19,
   "metadata": {},
   "outputs": [],
   "source": [
    "n_est = 100\n",
    "\n",
    "def rnd_forest_clf(X_train, y_train, X_test, y_test, n_est = 100, md = 3, title: str = 'Random forest'):\n",
    "\n",
    "    # create the model\n",
    "    model = RandomForestClassifier(n_estimators=n_est,max_depth=md)\n",
    "\n",
    "    # train the model\n",
    "    model.fit(X_train, y_train)\n",
    "\n",
    "    # make predictions and plot statistics and confusion matric\n",
    "    valuate(model, X_test, y_test, title=title)"
   ]
  },
  {
   "cell_type": "code",
   "execution_count": null,
   "metadata": {},
   "outputs": [],
   "source": [
    "rnd_forest_clf(X_trains[0], y_train, X_tests[0], y_test, n_est=n_est, title = \"Random forest Original\")"
   ]
  },
  {
   "cell_type": "code",
   "execution_count": null,
   "metadata": {},
   "outputs": [],
   "source": [
    "rnd_forest_clf(X_trains[1], y_train, X_tests[1], y_test, n_est=n_est, title = \"Random forest Reduced 90%\")"
   ]
  },
  {
   "cell_type": "code",
   "execution_count": null,
   "metadata": {},
   "outputs": [],
   "source": [
    "rnd_forest_clf(X_trains[2], y_train, X_tests[2], y_test, n_est=n_est, title = \"Random forest Reduced 75%\")"
   ]
  },
  {
   "cell_type": "markdown",
   "metadata": {},
   "source": [
    "Come si può vedere dalla matrice sopra, le classi *Electronic* e *Rock* sono abbastanza patologiche, crediamo che questo comportamento sia dovuto all'eccessivo sbilanciamento del dataset. Ora esploriamo le performance del modello al variare di *n_trees_values* $\\in$ [5, 10, 50, 100, 200, 500]."
   ]
  },
  {
   "cell_type": "code",
   "execution_count": null,
   "metadata": {},
   "outputs": [],
   "source": [
    "X_train, X_test = X_trains[1], X_tests[1]\n",
    "\n",
    "n_trees_values = range(50, 1000, 50)\n",
    "max_depth_values = list(range(1,15)) + [None]  # Profondità degli alberi (None = senza limite)\n",
    "\n",
    "# Matrici per salvare le metriche\n",
    "accuracy_matrix = np.zeros((len(n_trees_values), len(max_depth_values)))\n",
    "f1_matrix = np.zeros((len(n_trees_values), len(max_depth_values)))\n",
    "\n",
    "scoring = ['accuracy', 'f1_weighted']\n",
    "\n",
    "# Loop su entrambi i parametri\n",
    "for i, n_trees in enumerate(n_trees_values):\n",
    "    for j, depth in enumerate(max_depth_values):\n",
    "        model = RandomForestClassifier(n_estimators=n_trees, max_depth=depth, random_state=42)\n",
    "        \n",
    "        scores = cross_validate(model, X_train, y_train.values.ravel(), scoring=scoring, cv=10, n_jobs=8)\n",
    "        acc = np.mean(scores['test_accuracy'])\n",
    "        f1 = np.mean(scores['test_f1_weighted'])\n",
    "        \n",
    "        # model.fit(X_train, y_train)\n",
    "        # y_pred = model.predict(X_val)\n",
    "\n",
    "        # acc = accuracy_score(y_val, y_pred)\n",
    "        # f1 = f1_score(y_val, y_pred, average='weighted')\n",
    "\n",
    "        accuracy_matrix[i, j] = acc\n",
    "        f1_matrix[i, j] = f1\n",
    "\n",
    "        print(f\"n_trees={n_trees}, max_depth={depth}: Accuracy={acc:.4f}, F1_weighted={f1:.4f}\")\n",
    "\n",
    "# Creazione delle heatmap per visualizzare i risultati\n",
    "fig, ax = plt.subplots(1, 2, figsize=(12, 5))\n",
    "\n",
    "sns.heatmap(accuracy_matrix, annot=True, fmt=\".4f\", xticklabels=max_depth_values, yticklabels=n_trees_values, cmap=\"Blues\", ax=ax[0])\n",
    "ax[0].set_title(\"Accuracy Heatmap\")\n",
    "ax[0].set_xlabel(\"max_depth\")\n",
    "ax[0].set_ylabel(\"n_trees\")\n",
    "\n",
    "sns.heatmap(f1_matrix, annot=True, fmt=\".4f\", xticklabels=max_depth_values, yticklabels=n_trees_values, cmap=\"Reds\", ax=ax[1])\n",
    "ax[1].set_title(\"F1 Weighted Heatmap\")\n",
    "ax[1].set_xlabel(\"max_depth\")\n",
    "ax[1].set_ylabel(\"n_trees\")\n",
    "\n",
    "plt.tight_layout()\n",
    "plt.show()"
   ]
  },
  {
   "cell_type": "markdown",
   "metadata": {},
   "source": [
    "### Valuate best model"
   ]
  },
  {
   "cell_type": "code",
   "execution_count": 15,
   "metadata": {},
   "outputs": [],
   "source": [
    "i,j = unravel_index(accuracy_matrix.argmax(), accuracy_matrix.shape)\n",
    "best_n_trees, best_md = n_trees_values[i], max_depth_values[j]"
   ]
  },
  {
   "cell_type": "code",
   "execution_count": null,
   "metadata": {},
   "outputs": [],
   "source": [
    "rnd_forest_clf(X_trains[1], y_train, X_tests[1], y_test, n_est=best_n_trees, md=best_md title = \"Random forest Reduced 90%\")"
   ]
  },
  {
   "cell_type": "markdown",
   "metadata": {},
   "source": [
    "## AdaBoost\n",
    "\n",
    "In modo simile ai modelli precedenti, qui proponiamo una configurazione dei parametri con 8 alberi dalla altezza al più pari a 2."
   ]
  },
  {
   "cell_type": "code",
   "execution_count": null,
   "metadata": {},
   "outputs": [],
   "source": [
    "n_est = 8\n",
    "md = 2\n",
    "\n",
    "def ada_clf(X_train, y_train, X_test, y_test, n_est = 8, md = 2, title: str = 'Random forest'):\n",
    "\n",
    "    # create the model\n",
    "    classifier = tree.DecisionTreeClassifier(max_depth=md)\n",
    "    model = AdaBoostClassifier(classifier,n_estimators=n_est)\n",
    "\n",
    "    # train the model\n",
    "    model.fit(X_train, y_train)\n",
    "\n",
    "    # make predictions and plot statistics and confusion matric\n",
    "    valuate(model, X_test, y_test, title=title)"
   ]
  },
  {
   "cell_type": "code",
   "execution_count": null,
   "metadata": {},
   "outputs": [],
   "source": [
    "ada_clf(X_trains[0], y_train, X_tests[0], y_test, n_est=n_est, md=md, title = \"Adaboost Original\")"
   ]
  },
  {
   "cell_type": "code",
   "execution_count": null,
   "metadata": {},
   "outputs": [],
   "source": [
    "ada_clf(X_trains[1], y_train, X_tests[1], y_test, n_est=n_est, md=md, title = \"Adaboost Reduced 90%\")"
   ]
  },
  {
   "cell_type": "code",
   "execution_count": null,
   "metadata": {},
   "outputs": [],
   "source": [
    "ada_clf(X_trains[2], y_train, X_tests[2], y_test, n_est=n_est, md=md, title = \"Adaboost Reduced 75%\")"
   ]
  },
  {
   "cell_type": "markdown",
   "metadata": {},
   "source": [
    "### Model selection\n",
    "Facciamo ora variare il numero di alberi in [10, 50, 100, 150, 200] e la *max_depth* in [1, 2, 3, 5, 10]."
   ]
  },
  {
   "cell_type": "code",
   "execution_count": null,
   "metadata": {},
   "outputs": [],
   "source": [
    "X_train, X_test = X_trains[1], X_tests[1]\n",
    "n_estimators_values = [10, 50, 100, 150, 200, 250, 300]  # Numero di stadi del boosting\n",
    "max_depth_values = [1, 2, 3, 5, 10]  # Profondità degli alberi base\n",
    "\n",
    "# Matrici per salvare le metriche\n",
    "accuracy_matrix = np.zeros((len(n_estimators_values), len(max_depth_values)))\n",
    "f1_matrix = np.zeros((len(n_estimators_values), len(max_depth_values)))\n",
    "scoring = ['accuracy', 'f1_weighted']\n",
    "\n",
    "# Loop su entrambi i parametri\n",
    "for i, n_estimators in enumerate(n_estimators_values):\n",
    "    for j, depth in enumerate(max_depth_values):\n",
    "        base_tree = tree.DecisionTreeClassifier(max_depth=depth, random_state=42)\n",
    "        model = AdaBoostClassifier(estimator=base_tree, n_estimators=n_estimators, random_state=42)\n",
    "        \n",
    "        scores = cross_validate(model, X_train, y_train.values.ravel(), scoring=scoring, cv=10, n_jobs=8)\n",
    "        acc = np.mean(scores['test_accuracy'])\n",
    "        f1 = np.mean(scores['test_f1_weighted'])\n",
    "        \n",
    "        # model.fit(X_train, y_train)\n",
    "        # y_pred = model.predict(X_test)\n",
    "\n",
    "        # acc = accuracy_score(y_test, y_pred)\n",
    "        # f1 = f1_score(y_test, y_pred, average='weighted')\n",
    "\n",
    "        accuracy_matrix[i, j] = acc\n",
    "        f1_matrix[i, j] = f1\n",
    "\n",
    "        print(f\"n_estimators={n_estimators}, max_depth={depth}: Accuracy={acc:.4f}, F1_weighted={f1:.4f}\")\n",
    "\n",
    "# Creazione delle heatmap per visualizzare i risultati\n",
    "fig, ax = plt.subplots(1, 2, figsize=(12, 5))\n",
    "\n",
    "sns.heatmap(accuracy_matrix, annot=True, fmt=\".4f\", xticklabels=max_depth_values, yticklabels=n_estimators_values, cmap=\"Blues\", ax=ax[0])\n",
    "ax[0].set_title(\"Accuracy Heatmap\")\n",
    "ax[0].set_xlabel(\"max_depth\")\n",
    "ax[0].set_ylabel(\"n_estimators\")\n",
    "\n",
    "sns.heatmap(f1_matrix, annot=True, fmt=\".4f\", xticklabels=max_depth_values, yticklabels=n_estimators_values, cmap=\"Reds\", ax=ax[1])\n",
    "ax[1].set_title(\"F1 Weighted Heatmap\")\n",
    "ax[1].set_xlabel(\"max_depth\")\n",
    "ax[1].set_ylabel(\"n_estimators\")\n",
    "\n",
    "plt.tight_layout()\n",
    "plt.show()"
   ]
  },
  {
   "cell_type": "markdown",
   "metadata": {},
   "source": [
    "### Valuate best model"
   ]
  },
  {
   "cell_type": "code",
   "execution_count": 15,
   "metadata": {},
   "outputs": [],
   "source": [
    "i,j = unravel_index(accuracy_matrix.argmax(), accuracy_matrix.shape)\n",
    "best_n_trees, best_md = n_trees_values[i], max_depth_values[j]"
   ]
  },
  {
   "cell_type": "code",
   "execution_count": null,
   "metadata": {},
   "outputs": [],
   "source": [
    "ada_clf(X_trains[1], y_train, X_tests[1], y_test, n_est=n_est, md=md, title = \"Adaboost Reduced 90%\")"
   ]
  },
  {
   "cell_type": "markdown",
   "metadata": {
    "jp-MarkdownHeadingCollapsed": true
   },
   "source": [
    "## Extreme Gradient Boosting\n",
    "XGB è un modello basato su alberi e consigliabile per classificazioni multiclasse.\n",
    "Inoltre fa uso di alberi piccoli che ne migliorano la generalizzazione.\n",
    "\n",
    "A differenza di AdaBoost, gli algoritmi di gradient boosting costruiscono classificatori deboli che sono dipendenti l'uno dall'altro. Ogni nuovo classificatore cerca di correggere gli errori residui fatti dai modelli precedenti."
   ]
  },
  {
   "cell_type": "code",
   "execution_count": null,
   "metadata": {},
   "outputs": [],
   "source": [
    "from xgboost import XGBClassifier\n",
    "from sklearn.preprocessing import LabelEncoder\n",
    "\n",
    "def XGB(X_train, y_train, X_test, y_test, title: str = 'Extreme Gradient Boosting'):\n",
    "\n",
    "    label_encoder = LabelEncoder()\n",
    "    y_test_encoded = label_encoder.fit_transform(y_test)\n",
    "    y_train_encoded = label_encoder.fit_transform(y_train)\n",
    "\n",
    "    model = XGBClassifier()\n",
    "\n",
    "    model.fit(X_train, y_train_encoded)\n",
    "\n",
    "    valuate(model, X_test, y_test_encoded, title=title)\n"
   ]
  },
  {
   "cell_type": "code",
   "execution_count": null,
   "metadata": {},
   "outputs": [],
   "source": [
    "XGB(X_trains[0], y_train, X_tests[0], y_test, title=\"XGB Original\")"
   ]
  },
  {
   "cell_type": "code",
   "execution_count": null,
   "metadata": {},
   "outputs": [],
   "source": [
    "XGB(X_trains[1], y_train, X_tests[1], y_test, title=\"XGB Reduced 90%\")"
   ]
  },
  {
   "cell_type": "code",
   "execution_count": null,
   "metadata": {},
   "outputs": [],
   "source": [
    "XGB(X_trains[2], y_train, X_tests[2], y_test, title=\"XGB Reduced 75%\")"
   ]
  },
  {
   "cell_type": "markdown",
   "metadata": {},
   "source": [
    "### Model selection - Gridsearch XGB"
   ]
  },
  {
   "cell_type": "code",
   "execution_count": null,
   "metadata": {},
   "outputs": [],
   "source": [
    "X_train, X_test = X_trains[1], X_tests[1]\n",
    "\n",
    "param_grid = {\n",
    "    'learning_rate': [0.1, 0.01, 0.001],\n",
    "    'n_estimators': range(100, 1000, 50)\n",
    "}\n",
    "\n",
    "label_encoder = LabelEncoder()\n",
    "y_test_encoded = label_encoder.fit_transform(y_test)\n",
    "y_train_encoded = label_encoder.fit_transform(y_train)\n",
    "\n",
    "model = XGBClassifier()\n",
    "\n",
    "grid_search = GridSearchCV(estimator=model, param_grid=param_grid, cv=5)\n",
    "\n",
    "grid_search.fit(X_train, y_train_encoded)\n",
    "\n",
    "best_params = grid_search.best_params_\n",
    "best_model = grid_search.best_estimator_\n",
    "\n",
    "accuracy = best_model.score(X_test, y_test_encoded)\n",
    "print(f'Migliori parametri: {best_params}')\n",
    "print(f'Accuracy del modello ottimizzato: {accuracy}')"
   ]
  },
  {
   "cell_type": "markdown",
   "metadata": {},
   "source": [
    "# Rete Neurale \n",
    "\n",
    "La rete neurale è un modello molto complesso che abbiamo soltanto introdotto durante il corso. Qui proponiamo un'architettura a tre layer, con solo uno hidden, il quale è munito di funzione di attivazione ReLu."
   ]
  },
  {
   "cell_type": "code",
   "execution_count": 20,
   "metadata": {},
   "outputs": [],
   "source": [
    "from sklearn.preprocessing import OneHotEncoder\n",
    "\n",
    "def one_hot_encoding(y):\n",
    "    y = y.values.reshape(-1, 1)\n",
    "    ohe = OneHotEncoder(handle_unknown='ignore', sparse_output=False).fit(y)\n",
    "    y = ohe.transform(y)\n",
    "    return y"
   ]
  },
  {
   "cell_type": "code",
   "execution_count": 27,
   "metadata": {},
   "outputs": [
    {
     "name": "stdout",
     "output_type": "stream",
     "text": [
      "Using device: cuda\n"
     ]
    },
    {
     "name": "stderr",
     "output_type": "stream",
     "text": [
      "Epoch 0: 100%|█████████████████████████████████████████████████████████████████████████████████████████████████████████████████████| 99/99 [00:00<00:00, 319.01batch/s, acc=0.54, loss=1.41]\n"
     ]
    },
    {
     "name": "stdout",
     "output_type": "stream",
     "text": [
      "Epoch 0 validation: Cross-entropy=1.36, Accuracy=60.2%\n"
     ]
    },
    {
     "name": "stderr",
     "output_type": "stream",
     "text": [
      "Epoch 1: 100%|█████████████████████████████████████████████████████████████████████████████████████████████████████████████████████| 99/99 [00:00<00:00, 350.46batch/s, acc=0.57, loss=1.24]\n"
     ]
    },
    {
     "name": "stdout",
     "output_type": "stream",
     "text": [
      "Epoch 1 validation: Cross-entropy=1.21, Accuracy=62.4%\n"
     ]
    },
    {
     "name": "stderr",
     "output_type": "stream",
     "text": [
      "Epoch 2: 100%|██████████████████████████████████████████████████████████████████████████████████████████████████████████████████████| 99/99 [00:00<00:00, 353.38batch/s, acc=0.6, loss=1.17]\n"
     ]
    },
    {
     "name": "stdout",
     "output_type": "stream",
     "text": [
      "Epoch 2 validation: Cross-entropy=1.16, Accuracy=63.6%\n"
     ]
    },
    {
     "name": "stderr",
     "output_type": "stream",
     "text": [
      "Epoch 3: 100%|█████████████████████████████████████████████████████████████████████████████████████████████████████████████████████| 99/99 [00:00<00:00, 345.57batch/s, acc=0.62, loss=1.13]\n"
     ]
    },
    {
     "name": "stdout",
     "output_type": "stream",
     "text": [
      "Epoch 3 validation: Cross-entropy=1.14, Accuracy=63.7%\n"
     ]
    },
    {
     "name": "stderr",
     "output_type": "stream",
     "text": [
      "Epoch 4: 100%|█████████████████████████████████████████████████████████████████████████████████████████████████████████████████████| 99/99 [00:00<00:00, 350.86batch/s, acc=0.63, loss=1.09]\n"
     ]
    },
    {
     "name": "stdout",
     "output_type": "stream",
     "text": [
      "Epoch 4 validation: Cross-entropy=1.13, Accuracy=64.3%\n"
     ]
    },
    {
     "name": "stderr",
     "output_type": "stream",
     "text": [
      "Epoch 5: 100%|████████████████████████████████████████████████████████████████████████████████████████████████████████████████████| 99/99 [00:00<00:00, 342.83batch/s, acc=0.635, loss=1.06]\n"
     ]
    },
    {
     "name": "stdout",
     "output_type": "stream",
     "text": [
      "Epoch 5 validation: Cross-entropy=1.12, Accuracy=64.6%\n"
     ]
    },
    {
     "name": "stderr",
     "output_type": "stream",
     "text": [
      "Epoch 6: 100%|█████████████████████████████████████████████████████████████████████████████████████████████████████████████████████| 99/99 [00:00<00:00, 361.70batch/s, acc=0.65, loss=1.03]\n"
     ]
    },
    {
     "name": "stdout",
     "output_type": "stream",
     "text": [
      "Epoch 6 validation: Cross-entropy=1.11, Accuracy=64.7%\n"
     ]
    },
    {
     "name": "stderr",
     "output_type": "stream",
     "text": [
      "Epoch 7: 100%|████████████████████████████████████████████████████████████████████████████████████████████████████████████████████████| 99/99 [00:00<00:00, 353.62batch/s, acc=0.67, loss=1]\n"
     ]
    },
    {
     "name": "stdout",
     "output_type": "stream",
     "text": [
      "Epoch 7 validation: Cross-entropy=1.11, Accuracy=64.9%\n"
     ]
    },
    {
     "name": "stderr",
     "output_type": "stream",
     "text": [
      "Epoch 8: 100%|████████████████████████████████████████████████████████████████████████████████████████████████████████████████████| 99/99 [00:00<00:00, 363.30batch/s, acc=0.68, loss=0.978]\n"
     ]
    },
    {
     "name": "stdout",
     "output_type": "stream",
     "text": [
      "Epoch 8 validation: Cross-entropy=1.11, Accuracy=65.0%\n"
     ]
    },
    {
     "name": "stderr",
     "output_type": "stream",
     "text": [
      "Epoch 9: 100%|████████████████████████████████████████████████████████████████████████████████████████████████████████████████████| 99/99 [00:00<00:00, 352.34batch/s, acc=0.69, loss=0.955]\n"
     ]
    },
    {
     "name": "stdout",
     "output_type": "stream",
     "text": [
      "Epoch 9 validation: Cross-entropy=1.11, Accuracy=65.2%\n"
     ]
    },
    {
     "name": "stderr",
     "output_type": "stream",
     "text": [
      "Epoch 10: 100%|███████████████████████████████████████████████████████████████████████████████████████████████████████████████████| 99/99 [00:00<00:00, 369.47batch/s, acc=0.69, loss=0.935]\n"
     ]
    },
    {
     "name": "stdout",
     "output_type": "stream",
     "text": [
      "Epoch 10 validation: Cross-entropy=1.11, Accuracy=65.1%\n"
     ]
    },
    {
     "name": "stderr",
     "output_type": "stream",
     "text": [
      "Epoch 11: 100%|███████████████████████████████████████████████████████████████████████████████████████████████████████████████████| 99/99 [00:00<00:00, 354.06batch/s, acc=0.71, loss=0.914]\n"
     ]
    },
    {
     "name": "stdout",
     "output_type": "stream",
     "text": [
      "Epoch 11 validation: Cross-entropy=1.11, Accuracy=65.2%\n"
     ]
    },
    {
     "name": "stderr",
     "output_type": "stream",
     "text": [
      "Epoch 12: 100%|██████████████████████████████████████████████████████████████████████████████████████████████████████████████████| 99/99 [00:00<00:00, 346.76batch/s, acc=0.705, loss=0.895]\n"
     ]
    },
    {
     "name": "stdout",
     "output_type": "stream",
     "text": [
      "Epoch 12 validation: Cross-entropy=1.11, Accuracy=65.0%\n"
     ]
    },
    {
     "name": "stderr",
     "output_type": "stream",
     "text": [
      "Epoch 13: 100%|██████████████████████████████████████████████████████████████████████████████████████████████████████████████████| 99/99 [00:00<00:00, 347.69batch/s, acc=0.705, loss=0.876]\n"
     ]
    },
    {
     "name": "stdout",
     "output_type": "stream",
     "text": [
      "Epoch 13 validation: Cross-entropy=1.12, Accuracy=64.9%\n"
     ]
    },
    {
     "name": "stderr",
     "output_type": "stream",
     "text": [
      "Epoch 14: 100%|██████████████████████████████████████████████████████████████████████████████████████████████████████████████████| 99/99 [00:00<00:00, 348.18batch/s, acc=0.715, loss=0.858]\n"
     ]
    },
    {
     "name": "stdout",
     "output_type": "stream",
     "text": [
      "Epoch 14 validation: Cross-entropy=1.12, Accuracy=64.8%\n"
     ]
    },
    {
     "data": {
      "text/plain": [
       "<All keys matched successfully>"
      ]
     },
     "execution_count": 27,
     "metadata": {},
     "output_type": "execute_result"
    }
   ],
   "source": [
    "# Feedforward neural network\n",
    "X_train, X_test = X_trains[1], X_tests[1]\n",
    "d = 149\n",
    "\n",
    "device = torch.device('cuda' if torch.cuda.is_available() else 'cpu')\n",
    "print(f'Using device: {device}')\n",
    "\n",
    "class MultiClassNN(nn.Module):\n",
    "    def __init__(self):\n",
    "        super().__init__()\n",
    "        self.hidden = nn.Linear(d, d//2)\n",
    "        self.act = nn.LeakyReLU()\n",
    "        self.output = nn.Linear(d//2, 16)\n",
    "\n",
    "    def forward(self, x):\n",
    "        x = self.act(self.hidden(x))\n",
    "        x = self.output(x)\n",
    "        return x\n",
    "\n",
    "X_train_tensor = torch.tensor(X_train.to_numpy(), dtype=torch.float32)\n",
    "y_train_tensor = torch.tensor(one_hot_encoding(y_train), dtype=torch.float32)\n",
    "X_test_tensor = torch.tensor(X_test.to_numpy(), dtype=torch.float32)\n",
    "y_test_tensor = torch.tensor(one_hot_encoding(y_test), dtype=torch.float32)\n",
    "\n",
    "y_train_tensor.shape\n",
    "\n",
    "model = MultiClassNN()\n",
    "\n",
    "# loss metric and optimizer\n",
    "loss_fn = nn.CrossEntropyLoss()\n",
    "optimizer = optim.Adam(model.parameters(), lr=0.001)\n",
    "\n",
    "# prepare model and training parameters\n",
    "n_epochs = 15\n",
    "batch_size = 200\n",
    "batches_per_epoch = len(X_train) // batch_size\n",
    "\n",
    "best_acc = - np.inf   # init to negative infinity\n",
    "best_weights = None\n",
    "train_loss_hist = []\n",
    "train_acc_hist = []\n",
    "test_loss_hist = []\n",
    "test_acc_hist = []\n",
    "\n",
    "# training loop\n",
    "for epoch in range(n_epochs):\n",
    "    epoch_loss = []\n",
    "    epoch_acc = []\n",
    "    # set model in training mode and run through each batch\n",
    "    model.train()\n",
    "    with tqdm.trange(batches_per_epoch, unit=\"batch\", mininterval=0) as bar:\n",
    "        bar.set_description(f\"Epoch {epoch}\")\n",
    "        for i in bar:\n",
    "            # take a batch\n",
    "            start = i * batch_size\n",
    "            X_batch = X_train_tensor[start:start+batch_size]\n",
    "            y_batch = y_train_tensor[start:start+batch_size]\n",
    "\n",
    "            # forward pass\n",
    "            y_pred = model(X_batch)\n",
    "            loss = loss_fn(y_pred, y_batch)\n",
    "            \n",
    "            # backward pass\n",
    "            optimizer.zero_grad()\n",
    "            loss.backward()\n",
    "\n",
    "            # update weights\n",
    "            optimizer.step()\n",
    "\n",
    "            # compute and store metrics\n",
    "            acc = (torch.argmax(y_pred, 1) == torch.argmax(y_batch, 1)).float().mean()\n",
    "            epoch_loss.append(float(loss))\n",
    "            epoch_acc.append(float(acc))\n",
    "            bar.set_postfix(\n",
    "                loss=float(loss),\n",
    "                acc=float(acc)\n",
    "            )\n",
    "\n",
    "    # set model in evaluation mode and run through the test set\n",
    "    model.eval()\n",
    "    y_pred = model(X_test_tensor)\n",
    "    ce = loss_fn(y_pred, y_test_tensor)\n",
    "    acc = (torch.argmax(y_pred, 1) == torch.argmax(y_test_tensor, 1)).float().mean()\n",
    "    ce = float(ce)\n",
    "    acc = float(acc)\n",
    "    train_loss_hist.append(np.mean(epoch_loss))\n",
    "    train_acc_hist.append(np.mean(epoch_acc))\n",
    "    test_loss_hist.append(ce)\n",
    "    test_acc_hist.append(acc)\n",
    "    if acc > best_acc:\n",
    "        best_acc = acc\n",
    "        best_weights = copy.deepcopy(model.state_dict())\n",
    "    print(f\"Epoch {epoch} validation: Cross-entropy={ce:.2f}, Accuracy={acc*100:.1f}%\")\n",
    "\n",
    "# Restore best model\n",
    "model.load_state_dict(best_weights)\n"
   ]
  },
  {
   "cell_type": "code",
   "execution_count": 25,
   "metadata": {},
   "outputs": [
    {
     "data": {
      "image/png": "[encoded data removed]",
      "text/plain": [
       "<Figure size 1200x500 with 2 Axes>"
      ]
     },
     "metadata": {},
     "output_type": "display_data"
    }
   ],
   "source": [
    "# Creazione della figura con due subplot affiancati\n",
    "fig, axes = plt.subplots(1, 2, figsize=(12, 5))\n",
    "\n",
    "# Plot della Loss\n",
    "axes[0].plot(train_loss_hist, marker='o', linestyle='-', label=\"Train Loss\", color=\"blue\")\n",
    "axes[0].plot(test_loss_hist, marker='s', linestyle='--', label=\"Test Loss\", color=\"red\")\n",
    "axes[0].set_xlabel(\"Epoche\")\n",
    "axes[0].set_ylabel(\"Cross Entropy Loss\")\n",
    "axes[0].set_title(\"Andamento della Loss\")\n",
    "axes[0].legend()\n",
    "axes[0].grid(True)\n",
    "\n",
    "# Plot dell'Accuracy\n",
    "axes[1].plot(train_acc_hist, marker='o', linestyle='-', label=\"Train Accuracy\", color=\"blue\")\n",
    "axes[1].plot(test_acc_hist, marker='s', linestyle='--', label=\"Test Accuracy\", color=\"red\")\n",
    "axes[1].set_xlabel(\"Epoche\")\n",
    "axes[1].set_ylabel(\"Accuracy\")\n",
    "axes[1].set_title(\"Andamento dell'Accuracy\")\n",
    "axes[1].legend()\n",
    "axes[1].grid(True)\n",
    "\n",
    "# Mostra i grafici\n",
    "plt.tight_layout()\n",
    "plt.show()"
   ]
  },
  {
   "cell_type": "markdown",
   "metadata": {},
   "source": [
    "Si può vedere che dalle epoche 6-8 il miglioramento della *Test loss* rallenta, fino ad appiattirsi e ad iniziare ad invertire il trend dall'epoca 14 (Qui non viene mostrato, ma se aumentiamo il numero di epoche a 30 si vede chiaramente che la *Test loss* aumenta dall'espoca 14-15 in poi), evidenziando il fenomeno dell'*overfitting*. Anche il secondo grafico supporta l'ipotesi appena avanzata, infatti è evidente un chiaro \"rallentamento\" del miglioramento dell'accuracy a partire dalla epoca 6.   \n",
    "\n",
    "Per questo modello, visto l'altissimo numero di parametri, non abbiamo proposto nessun tipo di ricerca sul loro spazio. "
   ]
  },
  {
   "cell_type": "markdown",
   "metadata": {
    "jp-MarkdownHeadingCollapsed": true
   },
   "source": [
    "# GDA: Gaussian Discriminant Classifier"
   ]
  },
  {
   "cell_type": "code",
   "execution_count": null,
   "metadata": {},
   "outputs": [],
   "source": [
    "def lda(X_train, y_train, X_test, y_test, title: str = 'LDA'):\n",
    "\n",
    "    # create the model\n",
    "    model = LinearDiscriminantAnalysis()\n",
    "\n",
    "    # train the model\n",
    "    model.fit(X_train, y_train)\n",
    "    \n",
    "    # make predictions and plot statistics and confusion matric\n",
    "    valuate(model, X_test, y_test, title=title)"
   ]
  },
  {
   "cell_type": "code",
   "execution_count": null,
   "metadata": {},
   "outputs": [],
   "source": [
    "lda(X_trains[0], y_train, X_tests[0], y_test, title='LDA Original')"
   ]
  },
  {
   "cell_type": "code",
   "execution_count": null,
   "metadata": {},
   "outputs": [],
   "source": [
    "lda(X_trains[1], y_train, X_tests[1], y_test, title='LDA reduced 90%')"
   ]
  },
  {
   "cell_type": "code",
   "execution_count": null,
   "metadata": {},
   "outputs": [],
   "source": [
    "lda(X_trains[2], y_train, X_tests[2], y_test, title='LDA reduced 75%')"
   ]
  },
  {
   "cell_type": "markdown",
   "metadata": {},
   "source": [
    "# kNN: k-Nearest-Neighbors\n",
    "\n",
    "Qui, vista la presenza di un solo iper-parametro, ci limitiamo ad analizzare le performance dell'algoritmo al caso *k* $\\in$ [1, 3, 5, 7, 9, 15, 25, 50] e plottiamo i risultati."
   ]
  },
  {
   "cell_type": "code",
   "execution_count": null,
   "metadata": {},
   "outputs": [],
   "source": [
    "hyperparameters = {\n",
    "    'n_neighbors': range(3,50,1),\n",
    "    'weights': ['uniform', 'distance'],\n",
    "    'metric': ['euclidean', 'manhattan', 'chebyshev', 'minkowski']\n",
    "}"
   ]
  },
  {
   "cell_type": "markdown",
   "metadata": {},
   "source": [
    "### n_neighbors"
   ]
  },
  {
   "cell_type": "code",
   "execution_count": null,
   "metadata": {},
   "outputs": [],
   "source": [
    "X_train, X_test = X_trains[1], X_tests[1]\n",
    "\n",
    "# Liste per salvare le metriche\n",
    "accuracy_results, train_results = list(), list()\n",
    "scoring = ['accuracy', 'f1_weighted']\n",
    "\n",
    "for k in hyperparameters['n_neighbors']:\n",
    "    model = sklearn.neighbors.KNeighborsClassifier(n_neighbors=k)\n",
    "    scores = cross_validate(model, X_train, y_train, scoring=scoring, cv=10, n_jobs=8)\n",
    "    accuracy = np.mean(scores['test_accuracy'])\n",
    "    f1 = np.mean(scores['test_f1_weighted'])\n",
    "    accuracy_results.append(accuracy)\n",
    "    f1_results.append(f1)\n",
    "    print(f\"k={k}: Accuracy={accuracy:.4f}, F1_weighted={f1:.4f}\")\n"
   ]
  },
  {
   "cell_type": "code",
   "execution_count": null,
   "metadata": {},
   "outputs": [],
   "source": [
    "# find the best n estimator\n",
    "best_n_neighbors = hyperparameters['n_neighbors'][np.argmax(accuracy_results)]\n",
    "print(f'Best n estimator: {best_n_neighbors}')\n",
    "print(f'Best accuracy: {max(accuracy_results)}')\n"
   ]
  },
  {
   "cell_type": "code",
   "execution_count": null,
   "metadata": {},
   "outputs": [],
   "source": [
    "# Creazione del grafico\n",
    "plt.figure(figsize=(8, 5))\n",
    "plt.plot(hyperparameters['n_neighbors'], accuracy_values, , linestyle='-', label=\"Accuracy\", color=\"blue\")\n",
    "plt.plot(hyperparameters['n_neighbors'], f1_values, , linestyle='--', label=\"F1 Score (Weighted)\", color=\"red\")\n",
    "\n",
    "plt.xlabel(\"Numero di Vicini (k)\")\n",
    "plt.ylabel(\"Score\")\n",
    "plt.title(\"Performance di KNN al variare di k\")\n",
    "plt.legend()\n",
    "plt.show()"
   ]
  },
  {
   "cell_type": "markdown",
   "metadata": {
    "jp-MarkdownHeadingCollapsed": true
   },
   "source": [
    "### Weights"
   ]
  },
  {
   "cell_type": "code",
   "execution_count": null,
   "metadata": {},
   "outputs": [],
   "source": [
    "X_train, X_test = X_trains[1], X_tests[1]\n",
    "\n",
    "# Liste per salvare le metriche\n",
    "accuracy_results, train_results = list(), list()\n",
    "scoring = ['accuracy', 'f1_weighted']\n",
    "\n",
    "for k in hyperparameters['weights']:\n",
    "    model = sklearn.neighbors.KNeighborsClassifier(n_neighbors=best_n_neighbors, weights=k)\n",
    "    scores = cross_validate(model, X_train, y_train, scoring=scoring, cv=10, n_jobs=8)\n",
    "    accuracy = np.mean(scores['test_accuracy'])\n",
    "    f1 = np.mean(scores['test_f1_weighted'])\n",
    "    accuracy_results.append(accuracy)\n",
    "    f1_results.append(f1)\n",
    "    print(f\"weights={k}: Accuracy={accuracy:.4f}, F1_weighted={f1:.4f}\")\n"
   ]
  },
  {
   "cell_type": "code",
   "execution_count": null,
   "metadata": {},
   "outputs": [],
   "source": [
    "best_weights = hyperparameters['weights'][np.argmax(accuracy_results)]\n",
    "print(f'Best n estimator: {best_weights}')\n",
    "print(f'Best accuracy: {max(accuracy_results)}')"
   ]
  },
  {
   "cell_type": "code",
   "execution_count": null,
   "metadata": {},
   "outputs": [],
   "source": [
    "# Creazione del grafico\n",
    "plt.figure(figsize=(8, 5))\n",
    "plt.plot(hyperparameters['weights'], accuracy_values, linestyle='-', label=\"Accuracy\", color=\"blue\")\n",
    "plt.plot(hyperparameters['weights'], f1_values, linestyle='--', label=\"F1 Score (Weighted)\", color=\"red\")\n",
    "\n",
    "plt.xlabel(\"Numero di Vicini (k)\")\n",
    "plt.ylabel(\"Score\")\n",
    "plt.title(\"Performance di KNN al variare di k\")\n",
    "plt.legend()\n",
    "plt.show()"
   ]
  },
  {
   "cell_type": "markdown",
   "metadata": {
    "jp-MarkdownHeadingCollapsed": true
   },
   "source": [
    "### Metrica"
   ]
  },
  {
   "cell_type": "code",
   "execution_count": null,
   "metadata": {},
   "outputs": [],
   "source": [
    "X_train, X_test = X_trains[1], X_tests[1]\n",
    "\n",
    "# Liste per salvare le metriche\n",
    "accuracy_values = []\n",
    "f1_values = []\n",
    "\n",
    "# Loop su k\n",
    "for k in hyperparameters['metric']:\n",
    "    model = sklearn.neighbors.KNeighborsClassifier(n_neighbors=best_n_neighbors, weights=best_weights, metric=k)\n",
    "    scores = cross_validate(model, X_train, y_train, scoring=scoring, cv=10, n_jobs=8)\n",
    "    accuracy = np.mean(scores['test_accuracy'])\n",
    "    f1 = np.mean(scores['test_f1_weighted'])\n",
    "    accuracy_results.append(accuracy)\n",
    "    f1_results.append(f1)\n",
    "    print(f\"metric={k}: Accuracy={accuracy:.4f}, F1_weighted={f1:.4f}\")\n"
   ]
  },
  {
   "cell_type": "code",
   "execution_count": null,
   "metadata": {},
   "outputs": [],
   "source": [
    "best_metric = hyperparameters['metric'][np.argmax(accuracy_results)]\n",
    "print(f'Best n estimator: {best_metric}')\n",
    "print(f'Best accuracy: {max(accuracy_results)}')"
   ]
  },
  {
   "cell_type": "code",
   "execution_count": null,
   "metadata": {},
   "outputs": [],
   "source": [
    "# Creazione del grafico\n",
    "plt.figure(figsize=(8, 5))\n",
    "plt.plot(hyperparameters['metric'], accuracy_values, linestyle='-', label=\"Accuracy\", color=\"blue\")\n",
    "plt.plot(hyperparameters['metric'], f1_values, linestyle='--', label=\"F1 Score (Weighted)\", color=\"red\")\n",
    "\n",
    "plt.xlabel(\"Metrica\")\n",
    "plt.ylabel(\"Score\")\n",
    "plt.title(\"Performance di KNN al variare di k\")\n",
    "plt.legend()\n",
    "plt.show()"
   ]
  },
  {
   "cell_type": "markdown",
   "metadata": {
    "jp-MarkdownHeadingCollapsed": true
   },
   "source": [
    "## GridSearch Knn"
   ]
  },
  {
   "cell_type": "code",
   "execution_count": null,
   "metadata": {},
   "outputs": [],
   "source": [
    "model = sklearn.neighbors.KNeighborsClassifier()\n",
    "\n",
    "grid_search = GridSearchCV(estimator=model, param_grid=hyperparameters, cv=5)\n",
    "\n",
    "grid_search.fit(X_trains[1], y_train)\n",
    "\n",
    "best_params = grid_search.best_params_\n",
    "best_model = grid_search.best_estimator_\n",
    "\n",
    "accuracy = best_model.score(X_tests[1], y_test)\n",
    "print(f'Migliori parametri: {best_params}')\n",
    "print(f'Accuracy del modello ottimizzato: {accuracy}')"
   ]
  },
  {
   "cell_type": "markdown",
   "metadata": {},
   "source": [
    "# Logistic Regression"
   ]
  },
  {
   "cell_type": "code",
   "execution_count": null,
   "metadata": {},
   "outputs": [],
   "source": [
    "# logistic regression\n",
    "from sklearn.linear_model import LogisticRegression\n",
    "\n",
    "def logistic_regression(X_train, y_train, X_test, y_test, C: float = 1.0, penalty: str = \"l2\", title: str = 'Logistic Regression'):\n",
    "    # create the model\n",
    "    model = LogisticRegression(max_iter=1000, C=C, penalty=penalty)\n",
    "\n",
    "    # train the model\n",
    "    model.fit(X_train, y_train)\n",
    "\n",
    "    # make predictions and plot statistics and confusion matrix\n",
    "    valuate(model, X_test, y_test, title=title)\n"
   ]
  },
  {
   "cell_type": "code",
   "execution_count": null,
   "metadata": {},
   "outputs": [],
   "source": [
    "logistic_regression(X_trains[0], y_train, X_tests[0], y_test, title=\"logistic_regression Original\")"
   ]
  },
  {
   "cell_type": "code",
   "execution_count": null,
   "metadata": {},
   "outputs": [],
   "source": [
    "logistic_regression(X_trains[1], y_train, X_tests[1], y_test, title=\"logistic_regression reduced 90%\")"
   ]
  },
  {
   "cell_type": "code",
   "execution_count": null,
   "metadata": {},
   "outputs": [],
   "source": [
    "logistic_regression(X_trains[2], y_train, X_tests[2], y_test, title=\"logistic_regression reduced 75%\")"
   ]
  },
  {
   "cell_type": "code",
   "execution_count": null,
   "metadata": {
    "colab": {
     "base_uri": "https://localhost:8080/",
     "height": 597
    },
    "id": "ZmGY-hPD6ANj",
    "outputId": "d6532901-916a-4b56-8f3e-cbcdc5b9cd44"
   },
   "outputs": [],
   "source": [
    "c_range = np.linspace(1,6,100)\n",
    "X_train, X_test = X_trains[1], X_tests[1]\n",
    "\n",
    "# Liste per raccogliere le metriche\n",
    "accuracy_results, train_results = list(), list()\n",
    "scoring = ['accuracy', 'f1_weighted']\n",
    "\n",
    "for c in c_range:\n",
    "    model = LogisticRegression(max_iter=1000, C=c, penalty='l2', n_jobs=8)\n",
    "    scores = cross_validate(model, X_train, y_train, scoring=scoring, cv=10, n_jobs=8)\n",
    "    accuracy = np.mean(scores['test_accuracy'])\n",
    "    f1 = np.mean(scores['test_f1_weighted'])\n",
    "    accuracy_results.append(accuracy)\n",
    "    f1_results.append(f1)\n",
    "    print(f\"c={c}: Accuracy={accuracy:.4f}, F1_weighted={f1:.4f}\")"
   ]
  },
  {
   "cell_type": "code",
   "execution_count": null,
   "metadata": {},
   "outputs": [],
   "source": [
    "best_c = c_range[np.argmax(accuracy_results)]\n",
    "print(f'Best c: {best_c}')\n",
    "print(f'Best accuracy: {max(accuracy_results)}')"
   ]
  },
  {
   "cell_type": "markdown",
   "metadata": {},
   "source": [
    "# Conclusioni\n",
    "\n",
    "In questo studio, abbiamo analizzato e confrontato diversi algoritmi di classificazione per il nostro dataset: \n",
    "- **Support Vector Machine (SVM)**\n",
    "- **Decision Tree**\n",
    "- **Bagging**\n",
    "- **Boosting**\n",
    "- **Rete Neurale**\n",
    "- **Softmax Regression**\n",
    "- **Gaussian Discriminant Analysis (GDA)**\n",
    "- **k-Nearest Neighbors (kNN)**\n",
    "\n",
    "L'obiettivo era valutare le loro prestazioni utilizzando diverse metriche, tra cui accuratezza, F1-score e matrice di confusione. Ogni algoritmo è stato eseguito per un valore fissato degli iperparametri, facendo variare il numero di feature, mostrando prima i risultati per le feature che spiegano il 75% della varianza, poi il 90% e infine il 100%. I risultati che abbiamo ottenuto mostrano che ottime performance si ottengono già con il 75% della varianza, con il 90% si ottiene un miglioramento non trascurabile mentre il salto a 100% offre miglioramenti abbastanza marginali. Osserviamo che questi ragionamenti si applicano a tutte le classi di modelli su cui abbiamo fatto questi test eccetto quelli delle famiglie **Arboree**(Decision Tree, Bagging, Boosting), questo perchè è evidente che il set di iperparametri che abbiamo scelto non era affatto ottimale, spesso questi tendono all'underfitting. Questa nostra ipotesi è supportata anche dai test che abbiamo fatto sul dataset con il 90% della varianza e facendo variare gli iperparametri, infatti, se osserviamo i grafici dei modelli di questa famiglia, si vede che all'aumentare dei valori degli iperparametri si ottengono performance sempre migliori, fino ad ottenere risultati comparabili con quelli degli altri modelli che abbiamo testato. \n",
    "\n",
    "## Metodologia\n",
    "\n",
    "Abbiamo iniziato con la preparazione del dataset, includendo la normalizzazione e la selezione delle feature più rilevanti tramite PCA. Successivamente, abbiamo addestrato e testato ogni modello utilizzando tre diverse suddivisioni train-test (75%, 90% e 100% della varianza) e, per tutti i modelli eccetto Multilayer Perceptron, abbiamo esplorato diversi valori degli iperparametri per ottimizzare le performance.\n",
    "\n",
    "## Limitazioni e sviluppi futuri\n",
    "\n",
    "Questo studio presenta alcune limitazioni che potrebbero influenzare i risultati ottenuti:\n",
    "\n",
    "- **Rappresentazione dei dati**: Non abbiamo utilizzato tecniche avanzate come autoencoder o altre forme di apprendimento non supervisionato per l'estrazione automatica delle feature, ma ci siamo limitati alle feature estratte con dei software di *Audio Signal Processing*.\n",
    "\n",
    "- **Dataset sbilanciato**: L'analisi è stata condotta su un dataset fortemente sbilanciato, il che ha influenzato le prestazioni dei modelli e la capacità di generalizzazione, favorendo le classi più rappresentate.\n",
    "\n",
    "- **Modelli non deep**: Tutti i modelli utilizzati appartengono alla famiglia del machine learning tradizionale e non abbiamo esplorato approcci deep learning, che potrebbero offrire prestazioni superiori in determinati contesti.\n",
    "\n",
    "Ulteriori miglioramenti potrebbero essere ottenuti con tecniche di selezione delle feature più avanzate o con l'uso di modelli più sofisticati, come gli autoencoder (con RNN). Un'analisi più approfondita sull'importanza delle feature potrebbe anche fornire indicazioni utili per migliorare la classificazione.\n",
    "\n",
    "In futuro, sarebbe interessante sperimentare con set di dati più ampi e diversificati, oltre a integrare tecniche di ottimizzazione iperparametrica per migliorare ulteriormente le performance dei modelli testati."
   ]
  }
 ],
 "metadata": {
  "kernelspec": {
   "display_name": "Python 3 (ipykernel)",
   "language": "python",
   "name": "python3"
  },
  "language_info": {
   "codemirror_mode": {
    "name": "ipython",
    "version": 3
   },
   "file_extension": ".py",
   "mimetype": "text/x-python",
   "name": "python",
   "nbconvert_exporter": "python",
   "pygments_lexer": "ipython3",
   "version": "3.12.9"
  }
 },
 "nbformat": 4,
 "nbformat_minor": 4
}
